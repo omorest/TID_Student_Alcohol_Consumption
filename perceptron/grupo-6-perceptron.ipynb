{
  "nbformat": 4,
  "nbformat_minor": 0,
  "metadata": {
    "colab": {
      "name": "Grupo_6_Perceptron.ipynb",
      "provenance": [],
      "collapsed_sections": [],
      "toc_visible": true
    },
    "kernelspec": {
      "name": "python3",
      "display_name": "Python 3"
    }
  },
  "cells": [
    {
      "cell_type": "markdown",
      "metadata": {
        "id": "CUzQf0Lslop9",
        "colab_type": "text"
      },
      "source": [
        "# Tratamiento Inteligente de Datos\n",
        "\n",
        "# Grado en Ingeniería Informática - Itinerario de Computación "
      ]
    },
    {
      "cell_type": "markdown",
      "metadata": {
        "id": "f-Tw741-lzf6",
        "colab_type": "text"
      },
      "source": [
        "**Fecha:** 20 de Marzo del 2020  \n",
        "**Alumno:** Miguel Angel Ordoñez  \n",
        "- **Correo:** alu0101281087@ull.edu.es  \n",
        "\n",
        "**Alumno:** Óscar Moreira Estévez\n",
        "- **Correo:** alu0101209067@ull.edu.es  \n",
        "\n",
        "**Alumno:** Adal Díaz Fariña  \n",
        "- **Correo:** alu0101112251@ull.edu.es  \n",
        "\n",
        "\n",
        " "
      ]
    },
    {
      "cell_type": "markdown",
      "metadata": {
        "id": "3jjiEfbyQo1N",
        "colab_type": "text"
      },
      "source": [
        "___\n",
        "\n",
        "# Objetivo \n",
        "\n",
        "Construcciónd de un perceptrón simple y multicapa con los datos de consumición de alcohol en estudiantes.\n",
        "\n",
        "- Dataframe : [enlace](https://www.kaggle.com/uciml/student-alcohol-consumption)\n",
        "\n",
        "<br>\n",
        "\n",
        "___\n"
      ]
    },
    {
      "cell_type": "markdown",
      "metadata": {
        "id": "YbYeNrlvRGgG",
        "colab_type": "text"
      },
      "source": [
        "## **Librerías**"
      ]
    },
    {
      "cell_type": "markdown",
      "metadata": {
        "id": "Oz-W0nwiRSCj",
        "colab_type": "text"
      },
      "source": [
        "### Instalación de Librerías"
      ]
    },
    {
      "cell_type": "code",
      "metadata": {
        "id": "7BE0dUnnlp9O",
        "colab_type": "code",
        "outputId": "b5f9dd15-78fe-4e7b-b1ca-38fe31f405bd",
        "colab": {
          "base_uri": "https://localhost:8080/",
          "height": 277
        }
      },
      "source": [
        "pip install matplotlib sklearn pandas"
      ],
      "execution_count": 0,
      "outputs": [
        {
          "output_type": "stream",
          "text": [
            "Requirement already satisfied: matplotlib in /usr/local/lib/python3.6/dist-packages (3.2.1)\n",
            "Requirement already satisfied: sklearn in /usr/local/lib/python3.6/dist-packages (0.0)\n",
            "Requirement already satisfied: pandas in /usr/local/lib/python3.6/dist-packages (0.25.3)\n",
            "Requirement already satisfied: pyparsing!=2.0.4,!=2.1.2,!=2.1.6,>=2.0.1 in /usr/local/lib/python3.6/dist-packages (from matplotlib) (2.4.6)\n",
            "Requirement already satisfied: cycler>=0.10 in /usr/local/lib/python3.6/dist-packages (from matplotlib) (0.10.0)\n",
            "Requirement already satisfied: kiwisolver>=1.0.1 in /usr/local/lib/python3.6/dist-packages (from matplotlib) (1.1.0)\n",
            "Requirement already satisfied: python-dateutil>=2.1 in /usr/local/lib/python3.6/dist-packages (from matplotlib) (2.8.1)\n",
            "Requirement already satisfied: numpy>=1.11 in /usr/local/lib/python3.6/dist-packages (from matplotlib) (1.18.2)\n",
            "Requirement already satisfied: scikit-learn in /usr/local/lib/python3.6/dist-packages (from sklearn) (0.22.2.post1)\n",
            "Requirement already satisfied: pytz>=2017.2 in /usr/local/lib/python3.6/dist-packages (from pandas) (2018.9)\n",
            "Requirement already satisfied: six in /usr/local/lib/python3.6/dist-packages (from cycler>=0.10->matplotlib) (1.12.0)\n",
            "Requirement already satisfied: setuptools in /usr/local/lib/python3.6/dist-packages (from kiwisolver>=1.0.1->matplotlib) (46.0.0)\n",
            "Requirement already satisfied: scipy>=0.17.0 in /usr/local/lib/python3.6/dist-packages (from scikit-learn->sklearn) (1.4.1)\n",
            "Requirement already satisfied: joblib>=0.11 in /usr/local/lib/python3.6/dist-packages (from scikit-learn->sklearn) (0.14.1)\n"
          ],
          "name": "stdout"
        }
      ]
    },
    {
      "cell_type": "markdown",
      "metadata": {
        "id": "7LCwE3B8nVXp",
        "colab_type": "text"
      },
      "source": [
        "### Cargamos las librerias\n",
        "La utilidad de cada libería es la siguiente:\n",
        "\n",
        "1. **pandas:** Manipulación y análisis de datos\n",
        "2. **sklearn:** Construcción y evaluación del modelo\n",
        "\n",
        "**NOTA:** En el caso de sklearn solamente se importan los \"métodos\" que se van a utilizar"
      ]
    },
    {
      "cell_type": "code",
      "metadata": {
        "id": "APy-7q9Tr5AW",
        "colab_type": "code",
        "colab": {}
      },
      "source": [
        "import pandas as pd\n",
        "import matplotlib.pyplot as plt\n",
        "from sklearn import datasets\n",
        "from sklearn.model_selection import train_test_split\n",
        "from sklearn.linear_model import Perceptron\n",
        "from sklearn.neural_network import MLPClassifier\n",
        "from sklearn.metrics import log_loss, accuracy_score, classification_report, confusion_matrix\n",
        "from sklearn.metrics import roc_curve\n",
        "from sklearn.metrics import roc_auc_score\n",
        "from datetime import datetime"
      ],
      "execution_count": 0,
      "outputs": []
    },
    {
      "cell_type": "markdown",
      "metadata": {
        "id": "RWzdjcBinghu",
        "colab_type": "text"
      },
      "source": [
        "## **Cargamos los datos y visualizamos**"
      ]
    },
    {
      "cell_type": "code",
      "metadata": {
        "colab_type": "code",
        "id": "9mNKzlkekDFD",
        "outputId": "95c3ed48-0343-443e-e1f3-18730b4c22a7",
        "colab": {
          "base_uri": "https://localhost:8080/",
          "height": 437
        }
      },
      "source": [
        "dataset_alumns = pd.read_csv('student.csv', delimiter=',')\n",
        "dataset_alumns"
      ],
      "execution_count": 0,
      "outputs": [
        {
          "output_type": "execute_result",
          "data": {
            "text/html": [
              "<div>\n",
              "<style scoped>\n",
              "    .dataframe tbody tr th:only-of-type {\n",
              "        vertical-align: middle;\n",
              "    }\n",
              "\n",
              "    .dataframe tbody tr th {\n",
              "        vertical-align: top;\n",
              "    }\n",
              "\n",
              "    .dataframe thead th {\n",
              "        text-align: right;\n",
              "    }\n",
              "</style>\n",
              "<table border=\"1\" class=\"dataframe\">\n",
              "  <thead>\n",
              "    <tr style=\"text-align: right;\">\n",
              "      <th></th>\n",
              "      <th>school</th>\n",
              "      <th>sex</th>\n",
              "      <th>age</th>\n",
              "      <th>address</th>\n",
              "      <th>famsize</th>\n",
              "      <th>Pstatus</th>\n",
              "      <th>Medu</th>\n",
              "      <th>Fedu</th>\n",
              "      <th>Mjob</th>\n",
              "      <th>Fjob</th>\n",
              "      <th>reason</th>\n",
              "      <th>guardian</th>\n",
              "      <th>traveltime</th>\n",
              "      <th>studytime</th>\n",
              "      <th>failures</th>\n",
              "      <th>schoolsup</th>\n",
              "      <th>famsup</th>\n",
              "      <th>paid</th>\n",
              "      <th>activities</th>\n",
              "      <th>nursery</th>\n",
              "      <th>higher</th>\n",
              "      <th>internet</th>\n",
              "      <th>romantic</th>\n",
              "      <th>famrel</th>\n",
              "      <th>freetime</th>\n",
              "      <th>goout</th>\n",
              "      <th>Dalc</th>\n",
              "      <th>Walc</th>\n",
              "      <th>health</th>\n",
              "      <th>absences</th>\n",
              "      <th>G1</th>\n",
              "      <th>G2</th>\n",
              "      <th>G3</th>\n",
              "    </tr>\n",
              "  </thead>\n",
              "  <tbody>\n",
              "    <tr>\n",
              "      <th>0</th>\n",
              "      <td>GP</td>\n",
              "      <td>F</td>\n",
              "      <td>18</td>\n",
              "      <td>U</td>\n",
              "      <td>GT3</td>\n",
              "      <td>A</td>\n",
              "      <td>4</td>\n",
              "      <td>4</td>\n",
              "      <td>at_home</td>\n",
              "      <td>teacher</td>\n",
              "      <td>course</td>\n",
              "      <td>mother</td>\n",
              "      <td>2</td>\n",
              "      <td>2</td>\n",
              "      <td>0</td>\n",
              "      <td>yes</td>\n",
              "      <td>no</td>\n",
              "      <td>no</td>\n",
              "      <td>no</td>\n",
              "      <td>yes</td>\n",
              "      <td>yes</td>\n",
              "      <td>no</td>\n",
              "      <td>no</td>\n",
              "      <td>4</td>\n",
              "      <td>3</td>\n",
              "      <td>4</td>\n",
              "      <td>1</td>\n",
              "      <td>1</td>\n",
              "      <td>3</td>\n",
              "      <td>4</td>\n",
              "      <td>0</td>\n",
              "      <td>11</td>\n",
              "      <td>11</td>\n",
              "    </tr>\n",
              "    <tr>\n",
              "      <th>1</th>\n",
              "      <td>GP</td>\n",
              "      <td>F</td>\n",
              "      <td>17</td>\n",
              "      <td>U</td>\n",
              "      <td>GT3</td>\n",
              "      <td>T</td>\n",
              "      <td>1</td>\n",
              "      <td>1</td>\n",
              "      <td>at_home</td>\n",
              "      <td>other</td>\n",
              "      <td>course</td>\n",
              "      <td>father</td>\n",
              "      <td>1</td>\n",
              "      <td>2</td>\n",
              "      <td>0</td>\n",
              "      <td>no</td>\n",
              "      <td>yes</td>\n",
              "      <td>no</td>\n",
              "      <td>no</td>\n",
              "      <td>no</td>\n",
              "      <td>yes</td>\n",
              "      <td>yes</td>\n",
              "      <td>no</td>\n",
              "      <td>5</td>\n",
              "      <td>3</td>\n",
              "      <td>3</td>\n",
              "      <td>1</td>\n",
              "      <td>1</td>\n",
              "      <td>3</td>\n",
              "      <td>2</td>\n",
              "      <td>9</td>\n",
              "      <td>11</td>\n",
              "      <td>11</td>\n",
              "    </tr>\n",
              "    <tr>\n",
              "      <th>2</th>\n",
              "      <td>GP</td>\n",
              "      <td>F</td>\n",
              "      <td>15</td>\n",
              "      <td>U</td>\n",
              "      <td>LE3</td>\n",
              "      <td>T</td>\n",
              "      <td>1</td>\n",
              "      <td>1</td>\n",
              "      <td>at_home</td>\n",
              "      <td>other</td>\n",
              "      <td>other</td>\n",
              "      <td>mother</td>\n",
              "      <td>1</td>\n",
              "      <td>2</td>\n",
              "      <td>0</td>\n",
              "      <td>yes</td>\n",
              "      <td>no</td>\n",
              "      <td>no</td>\n",
              "      <td>no</td>\n",
              "      <td>yes</td>\n",
              "      <td>yes</td>\n",
              "      <td>yes</td>\n",
              "      <td>no</td>\n",
              "      <td>4</td>\n",
              "      <td>3</td>\n",
              "      <td>2</td>\n",
              "      <td>2</td>\n",
              "      <td>3</td>\n",
              "      <td>3</td>\n",
              "      <td>6</td>\n",
              "      <td>12</td>\n",
              "      <td>13</td>\n",
              "      <td>12</td>\n",
              "    </tr>\n",
              "    <tr>\n",
              "      <th>3</th>\n",
              "      <td>GP</td>\n",
              "      <td>F</td>\n",
              "      <td>15</td>\n",
              "      <td>U</td>\n",
              "      <td>GT3</td>\n",
              "      <td>T</td>\n",
              "      <td>4</td>\n",
              "      <td>2</td>\n",
              "      <td>health</td>\n",
              "      <td>services</td>\n",
              "      <td>home</td>\n",
              "      <td>mother</td>\n",
              "      <td>1</td>\n",
              "      <td>3</td>\n",
              "      <td>0</td>\n",
              "      <td>no</td>\n",
              "      <td>yes</td>\n",
              "      <td>no</td>\n",
              "      <td>yes</td>\n",
              "      <td>yes</td>\n",
              "      <td>yes</td>\n",
              "      <td>yes</td>\n",
              "      <td>yes</td>\n",
              "      <td>3</td>\n",
              "      <td>2</td>\n",
              "      <td>2</td>\n",
              "      <td>1</td>\n",
              "      <td>1</td>\n",
              "      <td>5</td>\n",
              "      <td>0</td>\n",
              "      <td>14</td>\n",
              "      <td>14</td>\n",
              "      <td>14</td>\n",
              "    </tr>\n",
              "    <tr>\n",
              "      <th>4</th>\n",
              "      <td>GP</td>\n",
              "      <td>F</td>\n",
              "      <td>16</td>\n",
              "      <td>U</td>\n",
              "      <td>GT3</td>\n",
              "      <td>T</td>\n",
              "      <td>3</td>\n",
              "      <td>3</td>\n",
              "      <td>other</td>\n",
              "      <td>other</td>\n",
              "      <td>home</td>\n",
              "      <td>father</td>\n",
              "      <td>1</td>\n",
              "      <td>2</td>\n",
              "      <td>0</td>\n",
              "      <td>no</td>\n",
              "      <td>yes</td>\n",
              "      <td>no</td>\n",
              "      <td>no</td>\n",
              "      <td>yes</td>\n",
              "      <td>yes</td>\n",
              "      <td>no</td>\n",
              "      <td>no</td>\n",
              "      <td>4</td>\n",
              "      <td>3</td>\n",
              "      <td>2</td>\n",
              "      <td>1</td>\n",
              "      <td>2</td>\n",
              "      <td>5</td>\n",
              "      <td>0</td>\n",
              "      <td>11</td>\n",
              "      <td>13</td>\n",
              "      <td>13</td>\n",
              "    </tr>\n",
              "    <tr>\n",
              "      <th>...</th>\n",
              "      <td>...</td>\n",
              "      <td>...</td>\n",
              "      <td>...</td>\n",
              "      <td>...</td>\n",
              "      <td>...</td>\n",
              "      <td>...</td>\n",
              "      <td>...</td>\n",
              "      <td>...</td>\n",
              "      <td>...</td>\n",
              "      <td>...</td>\n",
              "      <td>...</td>\n",
              "      <td>...</td>\n",
              "      <td>...</td>\n",
              "      <td>...</td>\n",
              "      <td>...</td>\n",
              "      <td>...</td>\n",
              "      <td>...</td>\n",
              "      <td>...</td>\n",
              "      <td>...</td>\n",
              "      <td>...</td>\n",
              "      <td>...</td>\n",
              "      <td>...</td>\n",
              "      <td>...</td>\n",
              "      <td>...</td>\n",
              "      <td>...</td>\n",
              "      <td>...</td>\n",
              "      <td>...</td>\n",
              "      <td>...</td>\n",
              "      <td>...</td>\n",
              "      <td>...</td>\n",
              "      <td>...</td>\n",
              "      <td>...</td>\n",
              "      <td>...</td>\n",
              "    </tr>\n",
              "    <tr>\n",
              "      <th>644</th>\n",
              "      <td>MS</td>\n",
              "      <td>F</td>\n",
              "      <td>19</td>\n",
              "      <td>R</td>\n",
              "      <td>GT3</td>\n",
              "      <td>T</td>\n",
              "      <td>2</td>\n",
              "      <td>3</td>\n",
              "      <td>services</td>\n",
              "      <td>other</td>\n",
              "      <td>course</td>\n",
              "      <td>mother</td>\n",
              "      <td>1</td>\n",
              "      <td>3</td>\n",
              "      <td>1</td>\n",
              "      <td>no</td>\n",
              "      <td>no</td>\n",
              "      <td>no</td>\n",
              "      <td>yes</td>\n",
              "      <td>no</td>\n",
              "      <td>yes</td>\n",
              "      <td>yes</td>\n",
              "      <td>no</td>\n",
              "      <td>5</td>\n",
              "      <td>4</td>\n",
              "      <td>2</td>\n",
              "      <td>1</td>\n",
              "      <td>2</td>\n",
              "      <td>5</td>\n",
              "      <td>4</td>\n",
              "      <td>10</td>\n",
              "      <td>11</td>\n",
              "      <td>10</td>\n",
              "    </tr>\n",
              "    <tr>\n",
              "      <th>645</th>\n",
              "      <td>MS</td>\n",
              "      <td>F</td>\n",
              "      <td>18</td>\n",
              "      <td>U</td>\n",
              "      <td>LE3</td>\n",
              "      <td>T</td>\n",
              "      <td>3</td>\n",
              "      <td>1</td>\n",
              "      <td>teacher</td>\n",
              "      <td>services</td>\n",
              "      <td>course</td>\n",
              "      <td>mother</td>\n",
              "      <td>1</td>\n",
              "      <td>2</td>\n",
              "      <td>0</td>\n",
              "      <td>no</td>\n",
              "      <td>yes</td>\n",
              "      <td>no</td>\n",
              "      <td>no</td>\n",
              "      <td>yes</td>\n",
              "      <td>yes</td>\n",
              "      <td>yes</td>\n",
              "      <td>no</td>\n",
              "      <td>4</td>\n",
              "      <td>3</td>\n",
              "      <td>4</td>\n",
              "      <td>1</td>\n",
              "      <td>1</td>\n",
              "      <td>1</td>\n",
              "      <td>4</td>\n",
              "      <td>15</td>\n",
              "      <td>15</td>\n",
              "      <td>16</td>\n",
              "    </tr>\n",
              "    <tr>\n",
              "      <th>646</th>\n",
              "      <td>MS</td>\n",
              "      <td>F</td>\n",
              "      <td>18</td>\n",
              "      <td>U</td>\n",
              "      <td>GT3</td>\n",
              "      <td>T</td>\n",
              "      <td>1</td>\n",
              "      <td>1</td>\n",
              "      <td>other</td>\n",
              "      <td>other</td>\n",
              "      <td>course</td>\n",
              "      <td>mother</td>\n",
              "      <td>2</td>\n",
              "      <td>2</td>\n",
              "      <td>0</td>\n",
              "      <td>no</td>\n",
              "      <td>no</td>\n",
              "      <td>no</td>\n",
              "      <td>yes</td>\n",
              "      <td>yes</td>\n",
              "      <td>yes</td>\n",
              "      <td>no</td>\n",
              "      <td>no</td>\n",
              "      <td>1</td>\n",
              "      <td>1</td>\n",
              "      <td>1</td>\n",
              "      <td>1</td>\n",
              "      <td>1</td>\n",
              "      <td>5</td>\n",
              "      <td>6</td>\n",
              "      <td>11</td>\n",
              "      <td>12</td>\n",
              "      <td>9</td>\n",
              "    </tr>\n",
              "    <tr>\n",
              "      <th>647</th>\n",
              "      <td>MS</td>\n",
              "      <td>M</td>\n",
              "      <td>17</td>\n",
              "      <td>U</td>\n",
              "      <td>LE3</td>\n",
              "      <td>T</td>\n",
              "      <td>3</td>\n",
              "      <td>1</td>\n",
              "      <td>services</td>\n",
              "      <td>services</td>\n",
              "      <td>course</td>\n",
              "      <td>mother</td>\n",
              "      <td>2</td>\n",
              "      <td>1</td>\n",
              "      <td>0</td>\n",
              "      <td>no</td>\n",
              "      <td>no</td>\n",
              "      <td>no</td>\n",
              "      <td>no</td>\n",
              "      <td>no</td>\n",
              "      <td>yes</td>\n",
              "      <td>yes</td>\n",
              "      <td>no</td>\n",
              "      <td>2</td>\n",
              "      <td>4</td>\n",
              "      <td>5</td>\n",
              "      <td>3</td>\n",
              "      <td>4</td>\n",
              "      <td>2</td>\n",
              "      <td>6</td>\n",
              "      <td>10</td>\n",
              "      <td>10</td>\n",
              "      <td>10</td>\n",
              "    </tr>\n",
              "    <tr>\n",
              "      <th>648</th>\n",
              "      <td>MS</td>\n",
              "      <td>M</td>\n",
              "      <td>18</td>\n",
              "      <td>R</td>\n",
              "      <td>LE3</td>\n",
              "      <td>T</td>\n",
              "      <td>3</td>\n",
              "      <td>2</td>\n",
              "      <td>services</td>\n",
              "      <td>other</td>\n",
              "      <td>course</td>\n",
              "      <td>mother</td>\n",
              "      <td>3</td>\n",
              "      <td>1</td>\n",
              "      <td>0</td>\n",
              "      <td>no</td>\n",
              "      <td>no</td>\n",
              "      <td>no</td>\n",
              "      <td>no</td>\n",
              "      <td>no</td>\n",
              "      <td>yes</td>\n",
              "      <td>yes</td>\n",
              "      <td>no</td>\n",
              "      <td>4</td>\n",
              "      <td>4</td>\n",
              "      <td>1</td>\n",
              "      <td>3</td>\n",
              "      <td>4</td>\n",
              "      <td>5</td>\n",
              "      <td>4</td>\n",
              "      <td>10</td>\n",
              "      <td>11</td>\n",
              "      <td>11</td>\n",
              "    </tr>\n",
              "  </tbody>\n",
              "</table>\n",
              "<p>649 rows × 33 columns</p>\n",
              "</div>"
            ],
            "text/plain": [
              "    school sex  age address famsize Pstatus  ...  Walc  health absences  G1  G2  G3\n",
              "0       GP   F   18       U     GT3       A  ...     1       3        4   0  11  11\n",
              "1       GP   F   17       U     GT3       T  ...     1       3        2   9  11  11\n",
              "2       GP   F   15       U     LE3       T  ...     3       3        6  12  13  12\n",
              "3       GP   F   15       U     GT3       T  ...     1       5        0  14  14  14\n",
              "4       GP   F   16       U     GT3       T  ...     2       5        0  11  13  13\n",
              "..     ...  ..  ...     ...     ...     ...  ...   ...     ...      ...  ..  ..  ..\n",
              "644     MS   F   19       R     GT3       T  ...     2       5        4  10  11  10\n",
              "645     MS   F   18       U     LE3       T  ...     1       1        4  15  15  16\n",
              "646     MS   F   18       U     GT3       T  ...     1       5        6  11  12   9\n",
              "647     MS   M   17       U     LE3       T  ...     4       2        6  10  10  10\n",
              "648     MS   M   18       R     LE3       T  ...     4       5        4  10  11  11\n",
              "\n",
              "[649 rows x 33 columns]"
            ]
          },
          "metadata": {
            "tags": []
          },
          "execution_count": 348
        }
      ]
    },
    {
      "cell_type": "markdown",
      "metadata": {
        "id": "h5bzgCPRn8mS",
        "colab_type": "text"
      },
      "source": [
        "> En primer lugar, queremos dejar claro que en la práctica el conjunto de datos no es proporcional. De un tipo de datos tenemos muchos valores y de otros muy poco por lo que el perceptron no es preciso. Al generar la matrix de confusión y ver la precisión del perceptrón multicapa nos dimos cuenta de este error. En el siguiente código calculamos el nº de datos de cada conjunto.\n"
      ]
    },
    {
      "cell_type": "code",
      "metadata": {
        "id": "1jALLA04Wr8Q",
        "colab_type": "code",
        "outputId": "25488292-c98b-4eb0-eb1c-4e61f0d48611",
        "colab": {
          "base_uri": "https://localhost:8080/",
          "height": 51
        }
      },
      "source": [
        "result = {\n",
        "    'Tipo 1': 0,\n",
        "    'Tipo 2': 0,\n",
        "    'Tipo 3': 0,\n",
        "    'Tipo 4': 0,\n",
        "    'Tipo 5': 0, \n",
        "}\n",
        "\n",
        "for i in range(649):\n",
        "  if(dataset_alumns['Dalc'][i] == 1):\n",
        "    result['Tipo 1'] = result['Tipo 1'] + 1\n",
        "  if(dataset_alumns['Dalc'][i] == 2):\n",
        "     result['Tipo 2'] = result['Tipo 2'] + 1\n",
        "  if(dataset_alumns['Dalc'][i] == 3):\n",
        "     result['Tipo 3'] = result['Tipo 3'] + 1\n",
        "  if(dataset_alumns['Dalc'][i] == 4):\n",
        "     result['Tipo 4'] = result['Tipo 4'] + 1\n",
        "  if(dataset_alumns['Dalc'][i] == 5):\n",
        "     result['Tipo 5'] = result['Tipo 5'] + 1\n",
        "\n",
        "print('Conjunto de datos')\n",
        "\n",
        "print(result)"
      ],
      "execution_count": 0,
      "outputs": [
        {
          "output_type": "stream",
          "text": [
            "Conjunto de datos\n",
            "{'Tipo 1': 451, 'Tipo 2': 121, 'Tipo 3': 43, 'Tipo 4': 17, 'Tipo 5': 17}\n"
          ],
          "name": "stdout"
        }
      ]
    },
    {
      "cell_type": "markdown",
      "metadata": {
        "id": "k4VOM8VpTXWE",
        "colab_type": "text"
      },
      "source": [
        "> Podemos ver que los datos están muy desproporcionados ya que el conjunto 1 tiene aproximadamente un 70% de los estudiantes."
      ]
    },
    {
      "cell_type": "markdown",
      "metadata": {
        "id": "sRMgaN7_t6ft",
        "colab_type": "text"
      },
      "source": [
        "> Seleccionamos las variables más relevantes del conjunto original para nuestro estudio."
      ]
    },
    {
      "cell_type": "code",
      "metadata": {
        "id": "5iA-A860t6A6",
        "colab_type": "code",
        "colab": {}
      },
      "source": [
        "columns = ['sex', 'age', 'address', 'famsize',\t'Pstatus', \t'Mjob', 'Fjob', 'reason', 'guardian', 'studytime', 'activities', \t'internet', \t'romantic', 'freetime', 'Dalc']\n",
        "\n",
        "data = dataset_alumns[columns]"
      ],
      "execution_count": 0,
      "outputs": []
    },
    {
      "cell_type": "markdown",
      "metadata": {
        "id": "SP_S9W1IrrH4",
        "colab_type": "text"
      },
      "source": [
        "> Filtramos las variables porque no podemos entrenar un perceptrón con valores nulos."
      ]
    },
    {
      "cell_type": "code",
      "metadata": {
        "id": "9gT9-UKkuKqq",
        "colab_type": "code",
        "colab": {}
      },
      "source": [
        "data_clean = data.dropna()\n"
      ],
      "execution_count": 0,
      "outputs": []
    },
    {
      "cell_type": "markdown",
      "metadata": {
        "id": "9v7G3digrsQ5",
        "colab_type": "text"
      },
      "source": [
        "> Del conjunto de variables escogidas, las variables que son de tipo string se convierten datos numéricos."
      ]
    },
    {
      "cell_type": "code",
      "metadata": {
        "id": "Cohme9Betrnp",
        "colab_type": "code",
        "colab": {}
      },
      "source": [
        "romantic    = {'yes': 1, 'no': 0}\n",
        "activities  = {'yes': 1, 'no': 0}\n",
        "sex         = {'F': 1,'M': 2}\n",
        "address     = {'U': 1,'R': 2}\n",
        "famsize     = {'GT3': 1,'LE3': 2}\n",
        "Pstatus     = {'A': 1,'T': 2}\n",
        "internet    = {'yes': 1, 'no': 0}\n",
        "Mjob        = {'teacher':0 , 'health':1 , 'services':2 , 'at_home':3, 'other':4}\n",
        "Fjob        = {'teacher':0 , 'health':1 , 'services':2 , 'at_home':3, 'other':4}\n",
        "reason      = {'home':0, 'reputation':1, 'course':2, 'other':3}\n",
        "guardian    = {'mother':0, 'father': 1, 'other':2}\n"
      ],
      "execution_count": 0,
      "outputs": []
    },
    {
      "cell_type": "markdown",
      "metadata": {
        "id": "OkAuimzUsUWX",
        "colab_type": "text"
      },
      "source": [
        "> Sustituimos las variables una vez convertidas para trabajar con datos númericos. "
      ]
    },
    {
      "cell_type": "code",
      "metadata": {
        "id": "GivNV1bJt1mr",
        "colab_type": "code",
        "colab": {}
      },
      "source": [
        "data_clean.romantic   = [romantic[item] for item in data_clean.romantic]\n",
        "data_clean.activities = [activities[item] for item in data_clean.activities]\n",
        "data_clean.sex        = [sex[item] for item in data_clean.sex]\n",
        "data_clean.address    = [address[item] for item in data_clean.address]\n",
        "data_clean.famsize    = [famsize[item] for item in data_clean.famsize]\n",
        "data_clean.Pstatus    = [Pstatus[item] for item in data_clean.Pstatus]\n",
        "data_clean.internet   = [internet[item] for item in data_clean.internet]\n",
        "data_clean.Mjob       = [Mjob[item] for item in data_clean.Mjob]\n",
        "data_clean.Fjob       = [Fjob[item] for item in data_clean.Fjob]\n",
        "data_clean.reason     = [reason[item] for item in data_clean.reason]\n",
        "data_clean.guardian   = [guardian[item] for item in data_clean.guardian]"
      ],
      "execution_count": 0,
      "outputs": []
    },
    {
      "cell_type": "markdown",
      "metadata": {
        "id": "T3B64NihtTH4",
        "colab_type": "text"
      },
      "source": [
        "> Se muestran los datos filtrados"
      ]
    },
    {
      "cell_type": "code",
      "metadata": {
        "id": "u-qrEfeJt_PC",
        "colab_type": "code",
        "outputId": "01f6a0aa-7f7a-4df2-ee5c-270602996d82",
        "colab": {
          "base_uri": "https://localhost:8080/",
          "height": 417
        }
      },
      "source": [
        "data_clean"
      ],
      "execution_count": 0,
      "outputs": [
        {
          "output_type": "execute_result",
          "data": {
            "text/html": [
              "<div>\n",
              "<style scoped>\n",
              "    .dataframe tbody tr th:only-of-type {\n",
              "        vertical-align: middle;\n",
              "    }\n",
              "\n",
              "    .dataframe tbody tr th {\n",
              "        vertical-align: top;\n",
              "    }\n",
              "\n",
              "    .dataframe thead th {\n",
              "        text-align: right;\n",
              "    }\n",
              "</style>\n",
              "<table border=\"1\" class=\"dataframe\">\n",
              "  <thead>\n",
              "    <tr style=\"text-align: right;\">\n",
              "      <th></th>\n",
              "      <th>sex</th>\n",
              "      <th>age</th>\n",
              "      <th>address</th>\n",
              "      <th>famsize</th>\n",
              "      <th>Pstatus</th>\n",
              "      <th>Mjob</th>\n",
              "      <th>Fjob</th>\n",
              "      <th>reason</th>\n",
              "      <th>guardian</th>\n",
              "      <th>studytime</th>\n",
              "      <th>activities</th>\n",
              "      <th>internet</th>\n",
              "      <th>romantic</th>\n",
              "      <th>freetime</th>\n",
              "      <th>Dalc</th>\n",
              "    </tr>\n",
              "  </thead>\n",
              "  <tbody>\n",
              "    <tr>\n",
              "      <th>0</th>\n",
              "      <td>1</td>\n",
              "      <td>18</td>\n",
              "      <td>1</td>\n",
              "      <td>1</td>\n",
              "      <td>1</td>\n",
              "      <td>3</td>\n",
              "      <td>0</td>\n",
              "      <td>2</td>\n",
              "      <td>0</td>\n",
              "      <td>2</td>\n",
              "      <td>0</td>\n",
              "      <td>0</td>\n",
              "      <td>0</td>\n",
              "      <td>3</td>\n",
              "      <td>1</td>\n",
              "    </tr>\n",
              "    <tr>\n",
              "      <th>1</th>\n",
              "      <td>1</td>\n",
              "      <td>17</td>\n",
              "      <td>1</td>\n",
              "      <td>1</td>\n",
              "      <td>2</td>\n",
              "      <td>3</td>\n",
              "      <td>4</td>\n",
              "      <td>2</td>\n",
              "      <td>1</td>\n",
              "      <td>2</td>\n",
              "      <td>0</td>\n",
              "      <td>1</td>\n",
              "      <td>0</td>\n",
              "      <td>3</td>\n",
              "      <td>1</td>\n",
              "    </tr>\n",
              "    <tr>\n",
              "      <th>2</th>\n",
              "      <td>1</td>\n",
              "      <td>15</td>\n",
              "      <td>1</td>\n",
              "      <td>2</td>\n",
              "      <td>2</td>\n",
              "      <td>3</td>\n",
              "      <td>4</td>\n",
              "      <td>3</td>\n",
              "      <td>0</td>\n",
              "      <td>2</td>\n",
              "      <td>0</td>\n",
              "      <td>1</td>\n",
              "      <td>0</td>\n",
              "      <td>3</td>\n",
              "      <td>2</td>\n",
              "    </tr>\n",
              "    <tr>\n",
              "      <th>3</th>\n",
              "      <td>1</td>\n",
              "      <td>15</td>\n",
              "      <td>1</td>\n",
              "      <td>1</td>\n",
              "      <td>2</td>\n",
              "      <td>1</td>\n",
              "      <td>2</td>\n",
              "      <td>0</td>\n",
              "      <td>0</td>\n",
              "      <td>3</td>\n",
              "      <td>1</td>\n",
              "      <td>1</td>\n",
              "      <td>1</td>\n",
              "      <td>2</td>\n",
              "      <td>1</td>\n",
              "    </tr>\n",
              "    <tr>\n",
              "      <th>4</th>\n",
              "      <td>1</td>\n",
              "      <td>16</td>\n",
              "      <td>1</td>\n",
              "      <td>1</td>\n",
              "      <td>2</td>\n",
              "      <td>4</td>\n",
              "      <td>4</td>\n",
              "      <td>0</td>\n",
              "      <td>1</td>\n",
              "      <td>2</td>\n",
              "      <td>0</td>\n",
              "      <td>0</td>\n",
              "      <td>0</td>\n",
              "      <td>3</td>\n",
              "      <td>1</td>\n",
              "    </tr>\n",
              "    <tr>\n",
              "      <th>...</th>\n",
              "      <td>...</td>\n",
              "      <td>...</td>\n",
              "      <td>...</td>\n",
              "      <td>...</td>\n",
              "      <td>...</td>\n",
              "      <td>...</td>\n",
              "      <td>...</td>\n",
              "      <td>...</td>\n",
              "      <td>...</td>\n",
              "      <td>...</td>\n",
              "      <td>...</td>\n",
              "      <td>...</td>\n",
              "      <td>...</td>\n",
              "      <td>...</td>\n",
              "      <td>...</td>\n",
              "    </tr>\n",
              "    <tr>\n",
              "      <th>644</th>\n",
              "      <td>1</td>\n",
              "      <td>19</td>\n",
              "      <td>2</td>\n",
              "      <td>1</td>\n",
              "      <td>2</td>\n",
              "      <td>2</td>\n",
              "      <td>4</td>\n",
              "      <td>2</td>\n",
              "      <td>0</td>\n",
              "      <td>3</td>\n",
              "      <td>1</td>\n",
              "      <td>1</td>\n",
              "      <td>0</td>\n",
              "      <td>4</td>\n",
              "      <td>1</td>\n",
              "    </tr>\n",
              "    <tr>\n",
              "      <th>645</th>\n",
              "      <td>1</td>\n",
              "      <td>18</td>\n",
              "      <td>1</td>\n",
              "      <td>2</td>\n",
              "      <td>2</td>\n",
              "      <td>0</td>\n",
              "      <td>2</td>\n",
              "      <td>2</td>\n",
              "      <td>0</td>\n",
              "      <td>2</td>\n",
              "      <td>0</td>\n",
              "      <td>1</td>\n",
              "      <td>0</td>\n",
              "      <td>3</td>\n",
              "      <td>1</td>\n",
              "    </tr>\n",
              "    <tr>\n",
              "      <th>646</th>\n",
              "      <td>1</td>\n",
              "      <td>18</td>\n",
              "      <td>1</td>\n",
              "      <td>1</td>\n",
              "      <td>2</td>\n",
              "      <td>4</td>\n",
              "      <td>4</td>\n",
              "      <td>2</td>\n",
              "      <td>0</td>\n",
              "      <td>2</td>\n",
              "      <td>1</td>\n",
              "      <td>0</td>\n",
              "      <td>0</td>\n",
              "      <td>1</td>\n",
              "      <td>1</td>\n",
              "    </tr>\n",
              "    <tr>\n",
              "      <th>647</th>\n",
              "      <td>2</td>\n",
              "      <td>17</td>\n",
              "      <td>1</td>\n",
              "      <td>2</td>\n",
              "      <td>2</td>\n",
              "      <td>2</td>\n",
              "      <td>2</td>\n",
              "      <td>2</td>\n",
              "      <td>0</td>\n",
              "      <td>1</td>\n",
              "      <td>0</td>\n",
              "      <td>1</td>\n",
              "      <td>0</td>\n",
              "      <td>4</td>\n",
              "      <td>3</td>\n",
              "    </tr>\n",
              "    <tr>\n",
              "      <th>648</th>\n",
              "      <td>2</td>\n",
              "      <td>18</td>\n",
              "      <td>2</td>\n",
              "      <td>2</td>\n",
              "      <td>2</td>\n",
              "      <td>2</td>\n",
              "      <td>4</td>\n",
              "      <td>2</td>\n",
              "      <td>0</td>\n",
              "      <td>1</td>\n",
              "      <td>0</td>\n",
              "      <td>1</td>\n",
              "      <td>0</td>\n",
              "      <td>4</td>\n",
              "      <td>3</td>\n",
              "    </tr>\n",
              "  </tbody>\n",
              "</table>\n",
              "<p>649 rows × 15 columns</p>\n",
              "</div>"
            ],
            "text/plain": [
              "     sex  age  address  famsize  ...  internet  romantic  freetime  Dalc\n",
              "0      1   18        1        1  ...         0         0         3     1\n",
              "1      1   17        1        1  ...         1         0         3     1\n",
              "2      1   15        1        2  ...         1         0         3     2\n",
              "3      1   15        1        1  ...         1         1         2     1\n",
              "4      1   16        1        1  ...         0         0         3     1\n",
              "..   ...  ...      ...      ...  ...       ...       ...       ...   ...\n",
              "644    1   19        2        1  ...         1         0         4     1\n",
              "645    1   18        1        2  ...         1         0         3     1\n",
              "646    1   18        1        1  ...         0         0         1     1\n",
              "647    2   17        1        2  ...         1         0         4     3\n",
              "648    2   18        2        2  ...         1         0         4     3\n",
              "\n",
              "[649 rows x 15 columns]"
            ]
          },
          "metadata": {
            "tags": []
          },
          "execution_count": 354
        }
      ]
    },
    {
      "cell_type": "markdown",
      "metadata": {
        "id": "xFSgKOfbaxsu",
        "colab_type": "text"
      },
      "source": [
        "## **Calculamos las medias**\n",
        "\n",
        "> En función de la edad calculamos las medias para ver el consumo de alcohol de los estudiantes tanto entre semana."
      ]
    },
    {
      "cell_type": "markdown",
      "metadata": {
        "id": "cVKKLAGnbSLf",
        "colab_type": "text"
      },
      "source": [
        "> En esta tabla se refleja el consumo de alcohol de los estudiantes entre semana(Dalc). "
      ]
    },
    {
      "cell_type": "code",
      "metadata": {
        "id": "uPnD-Nqh-nOZ",
        "colab_type": "code",
        "outputId": "bef16a00-f604-4c60-ed76-9d562f29ef7d",
        "colab": {
          "base_uri": "https://localhost:8080/",
          "height": 326
        }
      },
      "source": [
        "data_mean = data_clean[['age', 'Dalc']]\n",
        "grouped_data = data_mean.groupby('age')\n",
        "data_mean = round(grouped_data.mean(), 0)\n",
        "data_mean "
      ],
      "execution_count": 0,
      "outputs": [
        {
          "output_type": "execute_result",
          "data": {
            "text/html": [
              "<div>\n",
              "<style scoped>\n",
              "    .dataframe tbody tr th:only-of-type {\n",
              "        vertical-align: middle;\n",
              "    }\n",
              "\n",
              "    .dataframe tbody tr th {\n",
              "        vertical-align: top;\n",
              "    }\n",
              "\n",
              "    .dataframe thead th {\n",
              "        text-align: right;\n",
              "    }\n",
              "</style>\n",
              "<table border=\"1\" class=\"dataframe\">\n",
              "  <thead>\n",
              "    <tr style=\"text-align: right;\">\n",
              "      <th></th>\n",
              "      <th>Dalc</th>\n",
              "    </tr>\n",
              "    <tr>\n",
              "      <th>age</th>\n",
              "      <th></th>\n",
              "    </tr>\n",
              "  </thead>\n",
              "  <tbody>\n",
              "    <tr>\n",
              "      <th>15</th>\n",
              "      <td>1.0</td>\n",
              "    </tr>\n",
              "    <tr>\n",
              "      <th>16</th>\n",
              "      <td>1.0</td>\n",
              "    </tr>\n",
              "    <tr>\n",
              "      <th>17</th>\n",
              "      <td>2.0</td>\n",
              "    </tr>\n",
              "    <tr>\n",
              "      <th>18</th>\n",
              "      <td>2.0</td>\n",
              "    </tr>\n",
              "    <tr>\n",
              "      <th>19</th>\n",
              "      <td>2.0</td>\n",
              "    </tr>\n",
              "    <tr>\n",
              "      <th>20</th>\n",
              "      <td>1.0</td>\n",
              "    </tr>\n",
              "    <tr>\n",
              "      <th>21</th>\n",
              "      <td>3.0</td>\n",
              "    </tr>\n",
              "    <tr>\n",
              "      <th>22</th>\n",
              "      <td>5.0</td>\n",
              "    </tr>\n",
              "  </tbody>\n",
              "</table>\n",
              "</div>"
            ],
            "text/plain": [
              "     Dalc\n",
              "age      \n",
              "15    1.0\n",
              "16    1.0\n",
              "17    2.0\n",
              "18    2.0\n",
              "19    2.0\n",
              "20    1.0\n",
              "21    3.0\n",
              "22    5.0"
            ]
          },
          "metadata": {
            "tags": []
          },
          "execution_count": 355
        }
      ]
    },
    {
      "cell_type": "code",
      "metadata": {
        "id": "m9V-e2thmzOO",
        "colab_type": "code",
        "colab": {}
      },
      "source": [
        "data_mean['age'] = sorted(data_clean['age'].unique())"
      ],
      "execution_count": 0,
      "outputs": []
    },
    {
      "cell_type": "markdown",
      "metadata": {
        "id": "Nd-sWivXe_nQ",
        "colab_type": "text"
      },
      "source": [
        "## **Consumo de alcohol los fines de semana según la edad**"
      ]
    },
    {
      "cell_type": "markdown",
      "metadata": {
        "id": "FGxU8nLT1-TI",
        "colab_type": "text"
      },
      "source": [
        "> Instalamos *Plotly Express* la cual sirve para mostrar gráficos."
      ]
    },
    {
      "cell_type": "code",
      "metadata": {
        "id": "n6f9uCm6bgLO",
        "colab_type": "code",
        "outputId": "6a2d875d-7dc3-4f63-9ccb-34a615267035",
        "colab": {
          "base_uri": "https://localhost:8080/",
          "height": 226
        }
      },
      "source": [
        "pip install plotly_express"
      ],
      "execution_count": 0,
      "outputs": [
        {
          "output_type": "stream",
          "text": [
            "Requirement already satisfied: plotly_express in /usr/local/lib/python3.6/dist-packages (0.4.1)\n",
            "Requirement already satisfied: plotly>=4.1.0 in /usr/local/lib/python3.6/dist-packages (from plotly_express) (4.4.1)\n",
            "Requirement already satisfied: statsmodels>=0.9.0 in /usr/local/lib/python3.6/dist-packages (from plotly_express) (0.10.2)\n",
            "Requirement already satisfied: pandas>=0.20.0 in /usr/local/lib/python3.6/dist-packages (from plotly_express) (0.25.3)\n",
            "Requirement already satisfied: scipy>=0.18 in /usr/local/lib/python3.6/dist-packages (from plotly_express) (1.4.1)\n",
            "Requirement already satisfied: numpy>=1.11 in /usr/local/lib/python3.6/dist-packages (from plotly_express) (1.18.2)\n",
            "Requirement already satisfied: patsy>=0.5 in /usr/local/lib/python3.6/dist-packages (from plotly_express) (0.5.1)\n",
            "Requirement already satisfied: six in /usr/local/lib/python3.6/dist-packages (from plotly>=4.1.0->plotly_express) (1.12.0)\n",
            "Requirement already satisfied: retrying>=1.3.3 in /usr/local/lib/python3.6/dist-packages (from plotly>=4.1.0->plotly_express) (1.3.3)\n",
            "Requirement already satisfied: pytz>=2017.2 in /usr/local/lib/python3.6/dist-packages (from pandas>=0.20.0->plotly_express) (2018.9)\n",
            "Requirement already satisfied: python-dateutil>=2.6.1 in /usr/local/lib/python3.6/dist-packages (from pandas>=0.20.0->plotly_express) (2.8.1)\n"
          ],
          "name": "stdout"
        }
      ]
    },
    {
      "cell_type": "code",
      "metadata": {
        "id": "eodtoxjQb7Mn",
        "colab_type": "code",
        "colab": {}
      },
      "source": [
        "import plotly_express as px"
      ],
      "execution_count": 0,
      "outputs": []
    },
    {
      "cell_type": "markdown",
      "metadata": {
        "id": "HQBjs5RV2Ld_",
        "colab_type": "text"
      },
      "source": [
        "> Mostramos el gráfico de barras de la edad sobre el consumo medio de alcohol."
      ]
    },
    {
      "cell_type": "code",
      "metadata": {
        "id": "zVdM6yhCcAHe",
        "colab_type": "code",
        "outputId": "26a9c17c-43a5-4b2f-cdf0-20728bb650fb",
        "colab": {
          "base_uri": "https://localhost:8080/",
          "height": 542
        }
      },
      "source": [
        "fig = px.bar(round(data_mean,0), x='age', y='Dalc', color='Dalc')\n",
        "fig.show()"
      ],
      "execution_count": 0,
      "outputs": [
        {
          "output_type": "display_data",
          "data": {
            "text/html": [
              "<html>\n",
              "<head><meta charset=\"utf-8\" /></head>\n",
              "<body>\n",
              "    <div>\n",
              "            <script src=\"https://cdnjs.cloudflare.com/ajax/libs/mathjax/2.7.5/MathJax.js?config=TeX-AMS-MML_SVG\"></script><script type=\"text/javascript\">if (window.MathJax) {MathJax.Hub.Config({SVG: {font: \"STIX-Web\"}});}</script>\n",
              "                <script type=\"text/javascript\">window.PlotlyConfig = {MathJaxConfig: 'local'};</script>\n",
              "        <script src=\"https://cdn.plot.ly/plotly-latest.min.js\"></script>    \n",
              "            <div id=\"7d2d11c3-45d8-4690-bbe3-d9826ce71325\" class=\"plotly-graph-div\" style=\"height:525px; width:100%;\"></div>\n",
              "            <script type=\"text/javascript\">\n",
              "                \n",
              "                    window.PLOTLYENV=window.PLOTLYENV || {};\n",
              "                    \n",
              "                if (document.getElementById(\"7d2d11c3-45d8-4690-bbe3-d9826ce71325\")) {\n",
              "                    Plotly.newPlot(\n",
              "                        '7d2d11c3-45d8-4690-bbe3-d9826ce71325',\n",
              "                        [{\"alignmentgroup\": \"True\", \"hoverlabel\": {\"namelength\": 0}, \"hovertemplate\": \"age=%{x}<br>Dalc=%{marker.color}\", \"legendgroup\": \"\", \"marker\": {\"color\": [1.0, 1.0, 2.0, 2.0, 2.0, 1.0, 3.0, 5.0], \"coloraxis\": \"coloraxis\"}, \"name\": \"\", \"offsetgroup\": \"\", \"orientation\": \"v\", \"showlegend\": false, \"textposition\": \"auto\", \"type\": \"bar\", \"x\": [15, 16, 17, 18, 19, 20, 21, 22], \"xaxis\": \"x\", \"y\": [1.0, 1.0, 2.0, 2.0, 2.0, 1.0, 3.0, 5.0], \"yaxis\": \"y\"}],\n",
              "                        {\"barmode\": \"relative\", \"coloraxis\": {\"colorbar\": {\"title\": {\"text\": \"Dalc\"}}, \"colorscale\": [[0.0, \"#0d0887\"], [0.1111111111111111, \"#46039f\"], [0.2222222222222222, \"#7201a8\"], [0.3333333333333333, \"#9c179e\"], [0.4444444444444444, \"#bd3786\"], [0.5555555555555556, \"#d8576b\"], [0.6666666666666666, \"#ed7953\"], [0.7777777777777778, \"#fb9f3a\"], [0.8888888888888888, \"#fdca26\"], [1.0, \"#f0f921\"]]}, \"legend\": {\"tracegroupgap\": 0}, \"margin\": {\"t\": 60}, \"template\": {\"data\": {\"bar\": [{\"error_x\": {\"color\": \"#2a3f5f\"}, \"error_y\": {\"color\": \"#2a3f5f\"}, \"marker\": {\"line\": {\"color\": \"#E5ECF6\", \"width\": 0.5}}, \"type\": \"bar\"}], \"barpolar\": [{\"marker\": {\"line\": {\"color\": \"#E5ECF6\", \"width\": 0.5}}, \"type\": \"barpolar\"}], \"carpet\": [{\"aaxis\": {\"endlinecolor\": \"#2a3f5f\", \"gridcolor\": \"white\", \"linecolor\": \"white\", \"minorgridcolor\": \"white\", \"startlinecolor\": \"#2a3f5f\"}, \"baxis\": {\"endlinecolor\": \"#2a3f5f\", \"gridcolor\": \"white\", \"linecolor\": \"white\", \"minorgridcolor\": \"white\", \"startlinecolor\": \"#2a3f5f\"}, \"type\": \"carpet\"}], \"choropleth\": [{\"colorbar\": {\"outlinewidth\": 0, \"ticks\": \"\"}, \"type\": \"choropleth\"}], \"contour\": [{\"colorbar\": {\"outlinewidth\": 0, \"ticks\": \"\"}, \"colorscale\": [[0.0, \"#0d0887\"], [0.1111111111111111, \"#46039f\"], [0.2222222222222222, \"#7201a8\"], [0.3333333333333333, \"#9c179e\"], [0.4444444444444444, \"#bd3786\"], [0.5555555555555556, \"#d8576b\"], [0.6666666666666666, \"#ed7953\"], [0.7777777777777778, \"#fb9f3a\"], [0.8888888888888888, \"#fdca26\"], [1.0, \"#f0f921\"]], \"type\": \"contour\"}], \"contourcarpet\": [{\"colorbar\": {\"outlinewidth\": 0, \"ticks\": \"\"}, \"type\": \"contourcarpet\"}], \"heatmap\": [{\"colorbar\": {\"outlinewidth\": 0, \"ticks\": \"\"}, \"colorscale\": [[0.0, \"#0d0887\"], [0.1111111111111111, \"#46039f\"], [0.2222222222222222, \"#7201a8\"], [0.3333333333333333, \"#9c179e\"], [0.4444444444444444, \"#bd3786\"], [0.5555555555555556, \"#d8576b\"], [0.6666666666666666, \"#ed7953\"], [0.7777777777777778, \"#fb9f3a\"], [0.8888888888888888, \"#fdca26\"], [1.0, \"#f0f921\"]], \"type\": \"heatmap\"}], \"heatmapgl\": [{\"colorbar\": {\"outlinewidth\": 0, \"ticks\": \"\"}, \"colorscale\": [[0.0, \"#0d0887\"], [0.1111111111111111, \"#46039f\"], [0.2222222222222222, \"#7201a8\"], [0.3333333333333333, \"#9c179e\"], [0.4444444444444444, \"#bd3786\"], [0.5555555555555556, \"#d8576b\"], [0.6666666666666666, \"#ed7953\"], [0.7777777777777778, \"#fb9f3a\"], [0.8888888888888888, \"#fdca26\"], [1.0, \"#f0f921\"]], \"type\": \"heatmapgl\"}], \"histogram\": [{\"marker\": {\"colorbar\": {\"outlinewidth\": 0, \"ticks\": \"\"}}, \"type\": \"histogram\"}], \"histogram2d\": [{\"colorbar\": {\"outlinewidth\": 0, \"ticks\": \"\"}, \"colorscale\": [[0.0, \"#0d0887\"], [0.1111111111111111, \"#46039f\"], [0.2222222222222222, \"#7201a8\"], [0.3333333333333333, \"#9c179e\"], [0.4444444444444444, \"#bd3786\"], [0.5555555555555556, \"#d8576b\"], [0.6666666666666666, \"#ed7953\"], [0.7777777777777778, \"#fb9f3a\"], [0.8888888888888888, \"#fdca26\"], [1.0, \"#f0f921\"]], \"type\": \"histogram2d\"}], \"histogram2dcontour\": [{\"colorbar\": {\"outlinewidth\": 0, \"ticks\": \"\"}, \"colorscale\": [[0.0, \"#0d0887\"], [0.1111111111111111, \"#46039f\"], [0.2222222222222222, \"#7201a8\"], [0.3333333333333333, \"#9c179e\"], [0.4444444444444444, \"#bd3786\"], [0.5555555555555556, \"#d8576b\"], [0.6666666666666666, \"#ed7953\"], [0.7777777777777778, \"#fb9f3a\"], [0.8888888888888888, \"#fdca26\"], [1.0, \"#f0f921\"]], \"type\": \"histogram2dcontour\"}], \"mesh3d\": [{\"colorbar\": {\"outlinewidth\": 0, \"ticks\": \"\"}, \"type\": \"mesh3d\"}], \"parcoords\": [{\"line\": {\"colorbar\": {\"outlinewidth\": 0, \"ticks\": \"\"}}, \"type\": \"parcoords\"}], \"pie\": [{\"automargin\": true, \"type\": \"pie\"}], \"scatter\": [{\"marker\": {\"colorbar\": {\"outlinewidth\": 0, \"ticks\": \"\"}}, \"type\": \"scatter\"}], \"scatter3d\": [{\"line\": {\"colorbar\": {\"outlinewidth\": 0, \"ticks\": \"\"}}, \"marker\": {\"colorbar\": {\"outlinewidth\": 0, \"ticks\": \"\"}}, \"type\": \"scatter3d\"}], \"scattercarpet\": [{\"marker\": {\"colorbar\": {\"outlinewidth\": 0, \"ticks\": \"\"}}, \"type\": \"scattercarpet\"}], \"scattergeo\": [{\"marker\": {\"colorbar\": {\"outlinewidth\": 0, \"ticks\": \"\"}}, \"type\": \"scattergeo\"}], \"scattergl\": [{\"marker\": {\"colorbar\": {\"outlinewidth\": 0, \"ticks\": \"\"}}, \"type\": \"scattergl\"}], \"scattermapbox\": [{\"marker\": {\"colorbar\": {\"outlinewidth\": 0, \"ticks\": \"\"}}, \"type\": \"scattermapbox\"}], \"scatterpolar\": [{\"marker\": {\"colorbar\": {\"outlinewidth\": 0, \"ticks\": \"\"}}, \"type\": \"scatterpolar\"}], \"scatterpolargl\": [{\"marker\": {\"colorbar\": {\"outlinewidth\": 0, \"ticks\": \"\"}}, \"type\": \"scatterpolargl\"}], \"scatterternary\": [{\"marker\": {\"colorbar\": {\"outlinewidth\": 0, \"ticks\": \"\"}}, \"type\": \"scatterternary\"}], \"surface\": [{\"colorbar\": {\"outlinewidth\": 0, \"ticks\": \"\"}, \"colorscale\": [[0.0, \"#0d0887\"], [0.1111111111111111, \"#46039f\"], [0.2222222222222222, \"#7201a8\"], [0.3333333333333333, \"#9c179e\"], [0.4444444444444444, \"#bd3786\"], [0.5555555555555556, \"#d8576b\"], [0.6666666666666666, \"#ed7953\"], [0.7777777777777778, \"#fb9f3a\"], [0.8888888888888888, \"#fdca26\"], [1.0, \"#f0f921\"]], \"type\": \"surface\"}], \"table\": [{\"cells\": {\"fill\": {\"color\": \"#EBF0F8\"}, \"line\": {\"color\": \"white\"}}, \"header\": {\"fill\": {\"color\": \"#C8D4E3\"}, \"line\": {\"color\": \"white\"}}, \"type\": \"table\"}]}, \"layout\": {\"annotationdefaults\": {\"arrowcolor\": \"#2a3f5f\", \"arrowhead\": 0, \"arrowwidth\": 1}, \"coloraxis\": {\"colorbar\": {\"outlinewidth\": 0, \"ticks\": \"\"}}, \"colorscale\": {\"diverging\": [[0, \"#8e0152\"], [0.1, \"#c51b7d\"], [0.2, \"#de77ae\"], [0.3, \"#f1b6da\"], [0.4, \"#fde0ef\"], [0.5, \"#f7f7f7\"], [0.6, \"#e6f5d0\"], [0.7, \"#b8e186\"], [0.8, \"#7fbc41\"], [0.9, \"#4d9221\"], [1, \"#276419\"]], \"sequential\": [[0.0, \"#0d0887\"], [0.1111111111111111, \"#46039f\"], [0.2222222222222222, \"#7201a8\"], [0.3333333333333333, \"#9c179e\"], [0.4444444444444444, \"#bd3786\"], [0.5555555555555556, \"#d8576b\"], [0.6666666666666666, \"#ed7953\"], [0.7777777777777778, \"#fb9f3a\"], [0.8888888888888888, \"#fdca26\"], [1.0, \"#f0f921\"]], \"sequentialminus\": [[0.0, \"#0d0887\"], [0.1111111111111111, \"#46039f\"], [0.2222222222222222, \"#7201a8\"], [0.3333333333333333, \"#9c179e\"], [0.4444444444444444, \"#bd3786\"], [0.5555555555555556, \"#d8576b\"], [0.6666666666666666, \"#ed7953\"], [0.7777777777777778, \"#fb9f3a\"], [0.8888888888888888, \"#fdca26\"], [1.0, \"#f0f921\"]]}, \"colorway\": [\"#636efa\", \"#EF553B\", \"#00cc96\", \"#ab63fa\", \"#FFA15A\", \"#19d3f3\", \"#FF6692\", \"#B6E880\", \"#FF97FF\", \"#FECB52\"], \"font\": {\"color\": \"#2a3f5f\"}, \"geo\": {\"bgcolor\": \"white\", \"lakecolor\": \"white\", \"landcolor\": \"#E5ECF6\", \"showlakes\": true, \"showland\": true, \"subunitcolor\": \"white\"}, \"hoverlabel\": {\"align\": \"left\"}, \"hovermode\": \"closest\", \"mapbox\": {\"style\": \"light\"}, \"paper_bgcolor\": \"white\", \"plot_bgcolor\": \"#E5ECF6\", \"polar\": {\"angularaxis\": {\"gridcolor\": \"white\", \"linecolor\": \"white\", \"ticks\": \"\"}, \"bgcolor\": \"#E5ECF6\", \"radialaxis\": {\"gridcolor\": \"white\", \"linecolor\": \"white\", \"ticks\": \"\"}}, \"scene\": {\"xaxis\": {\"backgroundcolor\": \"#E5ECF6\", \"gridcolor\": \"white\", \"gridwidth\": 2, \"linecolor\": \"white\", \"showbackground\": true, \"ticks\": \"\", \"zerolinecolor\": \"white\"}, \"yaxis\": {\"backgroundcolor\": \"#E5ECF6\", \"gridcolor\": \"white\", \"gridwidth\": 2, \"linecolor\": \"white\", \"showbackground\": true, \"ticks\": \"\", \"zerolinecolor\": \"white\"}, \"zaxis\": {\"backgroundcolor\": \"#E5ECF6\", \"gridcolor\": \"white\", \"gridwidth\": 2, \"linecolor\": \"white\", \"showbackground\": true, \"ticks\": \"\", \"zerolinecolor\": \"white\"}}, \"shapedefaults\": {\"line\": {\"color\": \"#2a3f5f\"}}, \"ternary\": {\"aaxis\": {\"gridcolor\": \"white\", \"linecolor\": \"white\", \"ticks\": \"\"}, \"baxis\": {\"gridcolor\": \"white\", \"linecolor\": \"white\", \"ticks\": \"\"}, \"bgcolor\": \"#E5ECF6\", \"caxis\": {\"gridcolor\": \"white\", \"linecolor\": \"white\", \"ticks\": \"\"}}, \"title\": {\"x\": 0.05}, \"xaxis\": {\"automargin\": true, \"gridcolor\": \"white\", \"linecolor\": \"white\", \"ticks\": \"\", \"title\": {\"standoff\": 15}, \"zerolinecolor\": \"white\", \"zerolinewidth\": 2}, \"yaxis\": {\"automargin\": true, \"gridcolor\": \"white\", \"linecolor\": \"white\", \"ticks\": \"\", \"title\": {\"standoff\": 15}, \"zerolinecolor\": \"white\", \"zerolinewidth\": 2}}}, \"xaxis\": {\"anchor\": \"y\", \"domain\": [0.0, 1.0], \"title\": {\"text\": \"age\"}}, \"yaxis\": {\"anchor\": \"x\", \"domain\": [0.0, 1.0], \"title\": {\"text\": \"Dalc\"}}},\n",
              "                        {\"responsive\": true}\n",
              "                    ).then(function(){\n",
              "                            \n",
              "var gd = document.getElementById('7d2d11c3-45d8-4690-bbe3-d9826ce71325');\n",
              "var x = new MutationObserver(function (mutations, observer) {{\n",
              "        var display = window.getComputedStyle(gd).display;\n",
              "        if (!display || display === 'none') {{\n",
              "            console.log([gd, 'removed!']);\n",
              "            Plotly.purge(gd);\n",
              "            observer.disconnect();\n",
              "        }}\n",
              "}});\n",
              "\n",
              "// Listen for the removal of the full notebook cells\n",
              "var notebookContainer = gd.closest('#notebook-container');\n",
              "if (notebookContainer) {{\n",
              "    x.observe(notebookContainer, {childList: true});\n",
              "}}\n",
              "\n",
              "// Listen for the clearing of the current output cell\n",
              "var outputEl = gd.closest('.output');\n",
              "if (outputEl) {{\n",
              "    x.observe(outputEl, {childList: true});\n",
              "}}\n",
              "\n",
              "                        })\n",
              "                };\n",
              "                \n",
              "            </script>\n",
              "        </div>\n",
              "</body>\n",
              "</html>"
            ]
          },
          "metadata": {
            "tags": []
          }
        }
      ]
    },
    {
      "cell_type": "markdown",
      "metadata": {
        "id": "-Ji-ojFA3EHU",
        "colab_type": "text"
      },
      "source": [
        "## Conclusión de la gráfica\n",
        "\n",
        "> Se puede observar el consumo medio de alcohol por edad, en el caso de 22 años es el que mayor consumición hacen.\n",
        "\n",
        "> Sin embargo, estos datos no son una representación real ya que los datos no están equilibrados como se explicó en la introducción. "
      ]
    },
    {
      "cell_type": "markdown",
      "metadata": {
        "id": "ExS4Ahm4inca",
        "colab_type": "text"
      },
      "source": [
        "## **Procesador de datos**"
      ]
    },
    {
      "cell_type": "markdown",
      "metadata": {
        "id": "HZJkwYEh3_ot",
        "colab_type": "text"
      },
      "source": [
        "> Generamos los conjuntos de entrenamiento y de validación."
      ]
    },
    {
      "cell_type": "code",
      "metadata": {
        "id": "XghleMfcit3k",
        "colab_type": "code",
        "outputId": "a240241b-d613-45e9-ff6b-68033cb1f105",
        "colab": {
          "base_uri": "https://localhost:8080/",
          "height": 223
        }
      },
      "source": [
        "train_size = 0.75 \n",
        "test_size = 1 - train_size\n",
        "\n",
        "# Se obtienen todas las columnas menos la objetivo\n",
        "patterns_input = data_clean.drop('Dalc', axis=1)\n",
        "# Se obtiene la columna objetivo\n",
        "patterns_target = data_clean['Dalc']\n",
        "\n",
        "# Se divide en datos de entrenamiento y validación\n",
        "input_train, input_valid, target_train, target_valid = train_test_split(patterns_input, patterns_target, train_size=train_size, test_size=test_size, random_state=0, shuffle=True)\n",
        "\n",
        "# Se divide el cojunto de validación en dos subconjuntos nuevos que serán utilizados en el MLP\n",
        "input_test, input_valid, target_test, target_valid = train_test_split(input_valid, target_valid, train_size=train_size,test_size=test_size, random_state=0, shuffle=True)\n",
        "\n",
        "print(\"\\n--- Datos de Entrenamiento ---\")\n",
        "print(f\"Tamaño input_train : \", input_train.size)\n",
        "print(f\"Tamaño target_train : \", target_train.size)\n",
        "\n",
        "print(\"\\n--- Datos de Validacion ---\")\n",
        "print(f\"Tamaño input_valid : {input_valid.size}\")\n",
        "print(f\"Tamaño target_valid : {target_valid.size}\")\n",
        "\n",
        "print(\"\\n--- Datos de Test ---\")\n",
        "print(f\"Tamaño input_test : \", input_test.size)\n",
        "print(f\"Tamaño target_test : \", target_test.size)"
      ],
      "execution_count": 0,
      "outputs": [
        {
          "output_type": "stream",
          "text": [
            "\n",
            "--- Datos de Entrenamiento ---\n",
            "Tamaño input_train :  6804\n",
            "Tamaño target_train :  486\n",
            "\n",
            "--- Datos de Validacion ---\n",
            "Tamaño input_valid : 574\n",
            "Tamaño target_valid : 41\n",
            "\n",
            "--- Datos de Test ---\n",
            "Tamaño input_test :  1708\n",
            "Tamaño target_test :  122\n"
          ],
          "name": "stdout"
        }
      ]
    },
    {
      "cell_type": "markdown",
      "metadata": {
        "id": "YHNByR8itjvc",
        "colab_type": "text"
      },
      "source": [
        "## **Resultados iniciales Perceptrón Simple**"
      ]
    },
    {
      "cell_type": "markdown",
      "metadata": {
        "id": "ylFxyX_a4wyS",
        "colab_type": "text"
      },
      "source": [
        "> En este momento se ejcuta el perceptrón simple con una cantidad X de iteraciones."
      ]
    },
    {
      "cell_type": "code",
      "metadata": {
        "id": "rq89fWPetnLb",
        "colab_type": "code",
        "outputId": "8b5fca6c-b8d9-4cd1-8d53-f120eb989e37",
        "colab": {
          "base_uri": "https://localhost:8080/",
          "height": 1000
        }
      },
      "source": [
        "max_iter = 30\n",
        "\n",
        "per = Perceptron(max_iter=max_iter, shuffle=False, random_state=0, verbose=True)\n",
        "per.fit(input_train, target_train)\n",
        "\n",
        "predict_train = per.predict(input_train)\n",
        "predict_valid = per.predict(input_valid)\n",
        "\n",
        "print(\"Train accuracy: %.3f%%\" % (accuracy_score(target_train, predict_train) * 100))\n",
        "print(\"Valid accuracy: %.3f%%\" % (accuracy_score(target_valid, predict_valid) * 100))"
      ],
      "execution_count": 0,
      "outputs": [
        {
          "output_type": "stream",
          "text": [
            "-- Epoch 1\n",
            "Norm: 53.75, NNZs: 12, Bias: 2.000000, T: 486, Avg. loss: 65.578189\n",
            "Total training time: 0.00 seconds.\n",
            "-- Epoch 2\n",
            "Norm: 84.58, NNZs: 14, Bias: 4.000000, T: 972, Avg. loss: 58.506173\n",
            "Total training time: 0.00 seconds.\n",
            "-- Epoch 3\n",
            "Norm: 103.49, NNZs: 14, Bias: 5.000000, T: 1458, Avg. loss: 57.746914\n",
            "Total training time: 0.00 seconds.\n",
            "-- Epoch 4\n",
            "Norm: 124.42, NNZs: 14, Bias: 6.000000, T: 1944, Avg. loss: 56.185185\n",
            "Total training time: 0.00 seconds.\n",
            "-- Epoch 5\n",
            "Norm: 147.14, NNZs: 13, Bias: 7.000000, T: 2430, Avg. loss: 55.847737\n",
            "Total training time: 0.00 seconds.\n",
            "-- Epoch 6\n",
            "Norm: 156.03, NNZs: 14, Bias: 8.000000, T: 2916, Avg. loss: 58.261317\n",
            "Total training time: 0.00 seconds.\n",
            "-- Epoch 7\n",
            "Norm: 164.10, NNZs: 14, Bias: 9.000000, T: 3402, Avg. loss: 57.366255\n",
            "Total training time: 0.00 seconds.\n",
            "-- Epoch 8\n",
            "Norm: 176.76, NNZs: 14, Bias: 11.000000, T: 3888, Avg. loss: 60.425926\n",
            "Total training time: 0.00 seconds.\n",
            "-- Epoch 9\n",
            "Norm: 177.88, NNZs: 14, Bias: 13.000000, T: 4374, Avg. loss: 62.090535\n",
            "Total training time: 0.00 seconds.\n",
            "-- Epoch 10\n",
            "Norm: 183.21, NNZs: 14, Bias: 15.000000, T: 4860, Avg. loss: 60.018519\n",
            "Total training time: 0.01 seconds.\n",
            "Convergence after 10 epochs took 0.01 seconds\n",
            "-- Epoch 1\n",
            "Norm: 35.34, NNZs: 12, Bias: 0.000000, T: 486, Avg. loss: 46.417695\n",
            "Total training time: 0.00 seconds.\n",
            "-- Epoch 2\n",
            "Norm: 49.39, NNZs: 11, Bias: 0.000000, T: 972, Avg. loss: 41.956790\n",
            "Total training time: 0.00 seconds.\n",
            "-- Epoch 3\n",
            "Norm: 74.01, NNZs: 13, Bias: 1.000000, T: 1458, Avg. loss: 42.816872\n",
            "Total training time: 0.00 seconds.\n",
            "-- Epoch 4\n",
            "Norm: 70.15, NNZs: 14, Bias: 1.000000, T: 1944, Avg. loss: 44.065844\n",
            "Total training time: 0.00 seconds.\n",
            "-- Epoch 5\n",
            "Norm: 88.42, NNZs: 14, Bias: 2.000000, T: 2430, Avg. loss: 42.740741\n",
            "Total training time: 0.00 seconds.\n",
            "-- Epoch 6\n",
            "Norm: 98.72, NNZs: 14, Bias: 3.000000, T: 2916, Avg. loss: 40.586420\n",
            "Total training time: 0.00 seconds.\n",
            "-- Epoch 7\n",
            "Norm: 105.57, NNZs: 13, Bias: 4.000000, T: 3402, Avg. loss: 42.298354\n",
            "Total training time: 0.00 seconds.\n",
            "-- Epoch 8\n",
            "Norm: 109.82, NNZs: 14, Bias: 5.000000, T: 3888, Avg. loss: 43.730453\n",
            "Total training time: 0.00 seconds.\n",
            "-- Epoch 9\n",
            "Norm: 114.22, NNZs: 13, Bias: 5.000000, T: 4374, Avg. loss: 43.927984\n",
            "Total training time: 0.00 seconds.\n",
            "-- Epoch 10\n",
            "Norm: 111.02, NNZs: 14, Bias: 6.000000, T: 4860, Avg. loss: 44.172840\n",
            "Total training time: 0.00 seconds.\n",
            "-- Epoch 11\n",
            "Norm: 120.82, NNZs: 14, Bias: 6.000000, T: 5346, Avg. loss: 41.613169\n",
            "Total training time: 0.00 seconds.\n",
            "Convergence after 11 epochs took 0.00 seconds\n",
            "-- Epoch 1\n",
            "Norm: 26.61, NNZs: 13, Bias: -1.000000, T: 486, Avg. loss: 22.818930\n",
            "Total training time: 0.00 seconds.\n",
            "-- Epoch 2\n",
            "Norm: 49.01, NNZs: 14, Bias: -2.000000, T: 972, Avg. loss: 21.895062\n",
            "Total training time: 0.00 seconds.\n",
            "-- Epoch 3\n",
            "Norm: 63.13, NNZs: 14, Bias: -2.000000, T: 1458, Avg. loss: 21.115226\n",
            "Total training time: 0.00 seconds.\n",
            "-- Epoch 4\n",
            "Norm: 78.15, NNZs: 13, Bias: -3.000000, T: 1944, Avg. loss: 21.092593\n",
            "Total training time: 0.00 seconds.\n",
            "-- Epoch 5\n",
            "Norm: 93.69, NNZs: 14, Bias: -4.000000, T: 2430, Avg. loss: 20.526749\n",
            "Total training time: 0.00 seconds.\n",
            "-- Epoch 6\n",
            "Norm: 101.29, NNZs: 14, Bias: -6.000000, T: 2916, Avg. loss: 21.903292\n",
            "Total training time: 0.00 seconds.\n",
            "-- Epoch 7\n",
            "Norm: 112.41, NNZs: 13, Bias: -6.000000, T: 3402, Avg. loss: 20.113169\n",
            "Total training time: 0.00 seconds.\n",
            "-- Epoch 8\n",
            "Norm: 125.47, NNZs: 14, Bias: -7.000000, T: 3888, Avg. loss: 20.111111\n",
            "Total training time: 0.00 seconds.\n",
            "-- Epoch 9\n",
            "Norm: 136.63, NNZs: 14, Bias: -8.000000, T: 4374, Avg. loss: 20.238683\n",
            "Total training time: 0.00 seconds.\n",
            "-- Epoch 10\n",
            "Norm: 147.66, NNZs: 14, Bias: -9.000000, T: 4860, Avg. loss: 19.991770\n",
            "Total training time: 0.00 seconds.\n",
            "-- Epoch 11\n",
            "Norm: 152.49, NNZs: 14, Bias: -10.000000, T: 5346, Avg. loss: 21.962963\n",
            "Total training time: 0.00 seconds.\n",
            "-- Epoch 12\n",
            "Norm: 152.91, NNZs: 13, Bias: -11.000000, T: 5832, Avg. loss: 23.493827\n",
            "Total training time: 0.00 seconds.\n",
            "-- Epoch 13\n",
            "Norm: 155.71, NNZs: 14, Bias: -12.000000, T: 6318, Avg. loss: 21.141975\n",
            "Total training time: 0.01 seconds.\n",
            "-- Epoch 14\n",
            "Norm: 158.74, NNZs: 14, Bias: -13.000000, T: 6804, Avg. loss: 21.722222\n",
            "Total training time: 0.01 seconds.\n",
            "-- Epoch 15\n",
            "Norm: 159.74, NNZs: 14, Bias: -14.000000, T: 7290, Avg. loss: 22.390947\n",
            "Total training time: 0.01 seconds.\n",
            "Convergence after 15 epochs took 0.01 seconds\n",
            "-- Epoch 1\n",
            "Norm: 24.39, NNZs: 13, Bias: -2.000000, T: 486, Avg. loss: 8.401235\n",
            "Total training time: 0.00 seconds.\n",
            "-- Epoch 2\n",
            "Norm: 31.42, NNZs: 13, Bias: -2.000000, T: 972, Avg. loss: 8.051440\n",
            "Total training time: 0.00 seconds.\n",
            "-- Epoch 3\n",
            "Norm: 43.22, NNZs: 12, Bias: -3.000000, T: 1458, Avg. loss: 7.862140\n",
            "Total training time: 0.00 seconds.\n",
            "-- Epoch 4\n",
            "Norm: 48.69, NNZs: 14, Bias: -4.000000, T: 1944, Avg. loss: 8.403292\n",
            "Total training time: 0.00 seconds.\n",
            "-- Epoch 5\n",
            "Norm: 63.10, NNZs: 14, Bias: -5.000000, T: 2430, Avg. loss: 7.144033\n",
            "Total training time: 0.00 seconds.\n",
            "-- Epoch 6\n",
            "Norm: 66.03, NNZs: 14, Bias: -5.000000, T: 2916, Avg. loss: 8.154321\n",
            "Total training time: 0.00 seconds.\n",
            "-- Epoch 7\n",
            "Norm: 69.72, NNZs: 14, Bias: -6.000000, T: 3402, Avg. loss: 7.849794\n",
            "Total training time: 0.00 seconds.\n",
            "-- Epoch 8\n",
            "Norm: 75.20, NNZs: 14, Bias: -6.000000, T: 3888, Avg. loss: 7.967078\n",
            "Total training time: 0.00 seconds.\n",
            "-- Epoch 9\n",
            "Norm: 84.67, NNZs: 14, Bias: -7.000000, T: 4374, Avg. loss: 7.518519\n",
            "Total training time: 0.00 seconds.\n",
            "-- Epoch 10\n",
            "Norm: 82.56, NNZs: 14, Bias: -7.000000, T: 4860, Avg. loss: 8.514403\n",
            "Total training time: 0.00 seconds.\n",
            "Convergence after 10 epochs took 0.00 seconds\n",
            "-- Epoch 1\n",
            "Norm: 13.34, NNZs: 11, Bias: -1.000000, T: 486, Avg. loss: 9.641975\n",
            "Total training time: 0.00 seconds.\n",
            "-- Epoch 2\n",
            "Norm: 25.22, NNZs: 13, Bias: -2.000000, T: 972, Avg. loss: 9.320988\n",
            "Total training time: 0.00 seconds.\n",
            "-- Epoch 3\n",
            "Norm: 37.23, NNZs: 14, Bias: -3.000000, T: 1458, Avg. loss: 9.117284\n",
            "Total training time: 0.00 seconds.\n",
            "-- Epoch 4\n",
            "Norm: 40.58, NNZs: 14, Bias: -4.000000, T: 1944, Avg. loss: 9.358025\n",
            "Total training time: 0.00 seconds.\n",
            "-- Epoch 5\n",
            "Norm: 45.64, NNZs: 14, Bias: -5.000000, T: 2430, Avg. loss: 9.218107\n",
            "Total training time: 0.00 seconds.\n",
            "-- Epoch 6\n",
            "Norm: 50.07, NNZs: 13, Bias: -6.000000, T: 2916, Avg. loss: 9.218107\n",
            "Total training time: 0.00 seconds.\n",
            "-- Epoch 7\n",
            "Norm: 54.87, NNZs: 14, Bias: -7.000000, T: 3402, Avg. loss: 9.133745\n",
            "Total training time: 0.00 seconds.\n",
            "-- Epoch 8\n",
            "Norm: 59.96, NNZs: 14, Bias: -8.000000, T: 3888, Avg. loss: 9.049383\n",
            "Total training time: 0.00 seconds.\n",
            "-- Epoch 9\n",
            "Norm: 63.85, NNZs: 13, Bias: -9.000000, T: 4374, Avg. loss: 9.246914\n",
            "Total training time: 0.00 seconds.\n",
            "-- Epoch 10\n",
            "Norm: 72.17, NNZs: 13, Bias: -10.000000, T: 4860, Avg. loss: 8.567901\n",
            "Total training time: 0.00 seconds.\n",
            "-- Epoch 11\n",
            "Norm: 82.75, NNZs: 13, Bias: -11.000000, T: 5346, Avg. loss: 8.102881\n",
            "Total training time: 0.00 seconds.\n",
            "-- Epoch 12\n",
            "Norm: 88.26, NNZs: 13, Bias: -11.000000, T: 5832, Avg. loss: 8.421811\n",
            "Total training time: 0.00 seconds.\n",
            "-- Epoch 13\n",
            "Norm: 93.01, NNZs: 12, Bias: -12.000000, T: 6318, Avg. loss: 8.281893\n",
            "Total training time: 0.01 seconds.\n",
            "-- Epoch 14\n",
            "Norm: 95.73, NNZs: 14, Bias: -13.000000, T: 6804, Avg. loss: 9.158436\n",
            "Total training time: 0.01 seconds.\n",
            "-- Epoch 15\n",
            "Norm: 96.92, NNZs: 14, Bias: -14.000000, T: 7290, Avg. loss: 9.621399\n",
            "Total training time: 0.01 seconds.\n",
            "-- Epoch 16\n",
            "Norm: 102.64, NNZs: 14, Bias: -15.000000, T: 7776, Avg. loss: 8.534979\n",
            "Total training time: 0.01 seconds.\n",
            "Convergence after 16 epochs took 0.01 seconds\n",
            "Train accuracy: 69.547%\n",
            "Valid accuracy: 60.976%\n"
          ],
          "name": "stdout"
        },
        {
          "output_type": "stream",
          "text": [
            "[Parallel(n_jobs=1)]: Using backend SequentialBackend with 1 concurrent workers.\n",
            "[Parallel(n_jobs=1)]: Done   5 out of   5 | elapsed:    0.0s finished\n"
          ],
          "name": "stderr"
        }
      ]
    },
    {
      "cell_type": "markdown",
      "metadata": {
        "id": "gpX9YIrquV4A",
        "colab_type": "text"
      },
      "source": [
        "## Conclusión de resultados\n",
        "\n",
        "Se puede observar que la precisión no es tan alta y presenta errores. Esto posiblemente se debe a dos escenarios:\n",
        "\n",
        "- Los datos no están distribuidos de forma proporcional.\n",
        "- Las variables escogidas no representan un conjuntos que sea linealmente separable, que es un requisito indispensable para el correcto funcionamiento del perceptrón."
      ]
    },
    {
      "cell_type": "markdown",
      "metadata": {
        "id": "8U4yK1EQuh52",
        "colab_type": "text"
      },
      "source": [
        "## **Resultados iniciales Perceptrón Multicapa**"
      ]
    },
    {
      "cell_type": "markdown",
      "metadata": {
        "id": "YlwSi6_UuuLS",
        "colab_type": "text"
      },
      "source": [
        "> Para tener una mayor precisión se ejecuta un perceptrón multicapa."
      ]
    },
    {
      "cell_type": "code",
      "metadata": {
        "id": "fl43J_z_ukzE",
        "colab_type": "code",
        "colab": {}
      },
      "source": [
        "def MLP_train_valid(mlp, input_train, target_train, input_valid, target_valid, max_iter, valid_cycles, verbose):\n",
        "   \"\"\"\n",
        "   Train and valid MLP every valid_cycles iterations\n",
        "   \"\"\"\n",
        "   classes  = np.unique(target_train)\n",
        "   loss_valid = []\n",
        "   for i in range(int(max_iter/valid_cycles)):\n",
        "       for j in range(valid_cycles):\n",
        "           out = mlp.partial_fit(input_train, target_train, classes)\n",
        "           # Calculate loss function of valid set\n",
        "       last_lost_valid = log_loss(target_valid, mlp.predict_proba(input_valid))\n",
        "       loss_valid.append(last_lost_valid)\n",
        "       if verbose:\n",
        "           print(\"Iteration %d, train loss = %.8f, valid loss = %.8f\" %(mlp.n_iter_, mlp.loss_, last_lost_valid))\n",
        "       if early_stopping and (i > 0) and (last_lost_valid > loss_valid[-2]): # Early stopping\n",
        "           if verbose:\n",
        "               print(\"Early stopping: Validation score did not improve\")\n",
        "           break\n",
        "   if verbose: print(out)\n",
        "   \n",
        "   if verbose:\n",
        "       # Visualizing the Cost Function Trajectory\n",
        "       # (https://sdsawtelle.github.io/blog/output/week4-andrew-ng-machine-learning-with-python.html#Visualizing-the-Cost-Function-Trajectory)\n",
        "       print(\"Visualizing the Cost Function Trajectory\")\n",
        "       plt.plot(range(1, len(mlp.loss_curve_)+1), mlp.loss_curve_, label='Train loss')\n",
        "       plt.plot(range(valid_cycles,len(loss_valid)*valid_cycles+valid_cycles,valid_cycles), loss_valid, '-o', label='Valid loss')\n",
        "       plt.xlabel('number of iterations')\n",
        "       plt.ylabel('loss function')\n",
        "       plt.legend(loc='upper right')\n",
        "       plt.show()"
      ],
      "execution_count": 0,
      "outputs": []
    },
    {
      "cell_type": "markdown",
      "metadata": {
        "id": "Qcig9Gj7u0DW",
        "colab_type": "text"
      },
      "source": [
        "> Se esta entrenando el *MLP* con 65 neuronas, 300 iteraciones como máximo, un ratio de aprendizaje de 0.001 y se valida cada 5 ciclos."
      ]
    },
    {
      "cell_type": "code",
      "metadata": {
        "id": "qL9HAJPpvBas",
        "colab_type": "code",
        "outputId": "13b89273-147f-4b96-c516-b8933454c6e6",
        "colab": {
          "base_uri": "https://localhost:8080/",
          "height": 862
        }
      },
      "source": [
        "n_hidden = 65\n",
        "max_iter = 300\n",
        "learning_rate_init = 0.001\n",
        "valid_cycles = 5\n",
        "early_stopping = True\n",
        "\n",
        "mlp = MLPClassifier(hidden_layer_sizes=(n_hidden,), learning_rate_init=learning_rate_init, shuffle=False, random_state=0, verbose=False)\n",
        "MLP_train_valid(mlp, input_train, target_train, input_valid, target_valid, max_iter, valid_cycles, True)\n",
        "\n"
      ],
      "execution_count": 0,
      "outputs": [
        {
          "output_type": "stream",
          "text": [
            "Iteration 5, train loss = 1.89747818, valid loss = 1.56578731\n",
            "Iteration 10, train loss = 1.00296472, valid loss = 1.25000882\n",
            "Iteration 15, train loss = 0.96266170, valid loss = 1.15656286\n",
            "Iteration 20, train loss = 0.95658189, valid loss = 1.15518881\n",
            "Iteration 25, train loss = 0.94845394, valid loss = 1.14496007\n",
            "Iteration 30, train loss = 0.94398157, valid loss = 1.13538773\n",
            "Iteration 35, train loss = 0.93848256, valid loss = 1.12793343\n",
            "Iteration 40, train loss = 0.93496769, valid loss = 1.12181325\n",
            "Iteration 45, train loss = 0.93113493, valid loss = 1.11528516\n",
            "Iteration 50, train loss = 0.92773153, valid loss = 1.10977446\n",
            "Iteration 55, train loss = 0.92342199, valid loss = 1.10696997\n",
            "Iteration 60, train loss = 0.91956091, valid loss = 1.10363406\n",
            "Iteration 65, train loss = 0.91573008, valid loss = 1.10061075\n",
            "Iteration 70, train loss = 0.91165381, valid loss = 1.09797977\n",
            "Iteration 75, train loss = 0.90815853, valid loss = 1.09392250\n",
            "Iteration 80, train loss = 0.90510344, valid loss = 1.09020934\n",
            "Iteration 85, train loss = 0.90217546, valid loss = 1.08713608\n",
            "Iteration 90, train loss = 0.89934646, valid loss = 1.08387849\n",
            "Iteration 95, train loss = 0.89635359, valid loss = 1.08103190\n",
            "Iteration 100, train loss = 0.89316416, valid loss = 1.07915113\n",
            "Iteration 105, train loss = 0.89000360, valid loss = 1.07793605\n",
            "Iteration 110, train loss = 0.88676540, valid loss = 1.07600757\n",
            "Iteration 115, train loss = 0.88338109, valid loss = 1.07404392\n",
            "Iteration 120, train loss = 0.87932351, valid loss = 1.08166742\n",
            "Early stopping: Validation score did not improve\n",
            "MLPClassifier(activation='relu', alpha=0.0001, batch_size='auto', beta_1=0.9,\n",
            "              beta_2=0.999, early_stopping=False, epsilon=1e-08,\n",
            "              hidden_layer_sizes=(65,), learning_rate='constant',\n",
            "              learning_rate_init=0.001, max_fun=15000, max_iter=200,\n",
            "              momentum=0.9, n_iter_no_change=10, nesterovs_momentum=True,\n",
            "              power_t=0.5, random_state=0, shuffle=False, solver='adam',\n",
            "              tol=0.0001, validation_fraction=0.1, verbose=False,\n",
            "              warm_start=False)\n",
            "Visualizing the Cost Function Trajectory\n"
          ],
          "name": "stdout"
        },
        {
          "output_type": "display_data",
          "data": {
            "image/png": "[encoded data removed]",
            "text/plain": [
              "<Figure size 432x288 with 1 Axes>"
            ]
          },
          "metadata": {
            "tags": []
          }
        }
      ]
    },
    {
      "cell_type": "markdown",
      "metadata": {
        "id": "pZYPIljdwrEH",
        "colab_type": "text"
      },
      "source": [
        "> Se muestran los resultados del *MLP* despues de haberlo entrenado.\n",
        "> Para ver la precisión del *MLP* mostraremos la matriz de confusión y reporte de clasificiación."
      ]
    },
    {
      "cell_type": "code",
      "metadata": {
        "id": "5goSZSFgwsd9",
        "colab_type": "code",
        "outputId": "f6b2e553-4879-4f20-dadc-158806b2ca07",
        "colab": {
          "base_uri": "https://localhost:8080/",
          "height": 928
        }
      },
      "source": [
        "predict_train = mlp.predict(input_train)\n",
        "predict_valid = mlp.predict(input_valid)\n",
        "print(\"Train accuracy: %.3f%%\" % (accuracy_score(target_train, predict_train) * 100))\n",
        "print(\"Valid accuracy: %.3f%%\" % (accuracy_score(target_valid, predict_valid) * 100))\n",
        "\n",
        "print(\"\\n--- Resultados de Entrenamiento ---\")\n",
        "print(\"\\nTrain confusion matrix:\")\n",
        "print(confusion_matrix(target_train, predict_train))\n",
        "print(\"\\nTrain classification report:\")\n",
        "print(classification_report(target_train, predict_train))\n",
        "\n",
        "print(\"\\n--- Resultados de Validacion ---\")\n",
        "print(\"\\nValid confusion matrix:\")\n",
        "print(confusion_matrix(target_valid, predict_valid))\n",
        "print(\"\\nValid classification report:\")\n",
        "print(classification_report(target_valid, predict_valid))"
      ],
      "execution_count": 0,
      "outputs": [
        {
          "output_type": "stream",
          "text": [
            "Train accuracy: 69.547%\n",
            "Valid accuracy: 60.976%\n",
            "\n",
            "--- Resultados de Entrenamiento ---\n",
            "\n",
            "Train confusion matrix:\n",
            "[[338   0   0   0   0]\n",
            " [ 89   0   0   0   0]\n",
            " [ 34   0   0   0   0]\n",
            " [ 12   0   0   0   0]\n",
            " [ 13   0   0   0   0]]\n",
            "\n",
            "Train classification report:\n",
            "              precision    recall  f1-score   support\n",
            "\n",
            "           1       0.70      1.00      0.82       338\n",
            "           2       0.00      0.00      0.00        89\n",
            "           3       0.00      0.00      0.00        34\n",
            "           4       0.00      0.00      0.00        12\n",
            "           5       0.00      0.00      0.00        13\n",
            "\n",
            "    accuracy                           0.70       486\n",
            "   macro avg       0.14      0.20      0.16       486\n",
            "weighted avg       0.48      0.70      0.57       486\n",
            "\n",
            "\n",
            "--- Resultados de Validacion ---\n",
            "\n",
            "Valid confusion matrix:\n",
            "[[25  0  0  0  0]\n",
            " [ 9  0  0  0  0]\n",
            " [ 4  0  0  0  0]\n",
            " [ 2  0  0  0  0]\n",
            " [ 1  0  0  0  0]]\n",
            "\n",
            "Valid classification report:\n",
            "              precision    recall  f1-score   support\n",
            "\n",
            "           1       0.61      1.00      0.76        25\n",
            "           2       0.00      0.00      0.00         9\n",
            "           3       0.00      0.00      0.00         4\n",
            "           4       0.00      0.00      0.00         2\n",
            "           5       0.00      0.00      0.00         1\n",
            "\n",
            "    accuracy                           0.61        41\n",
            "   macro avg       0.12      0.20      0.15        41\n",
            "weighted avg       0.37      0.61      0.46        41\n",
            "\n"
          ],
          "name": "stdout"
        },
        {
          "output_type": "stream",
          "text": [
            "/usr/local/lib/python3.6/dist-packages/sklearn/metrics/_classification.py:1272: UndefinedMetricWarning:\n",
            "\n",
            "Precision and F-score are ill-defined and being set to 0.0 in labels with no predicted samples. Use `zero_division` parameter to control this behavior.\n",
            "\n"
          ],
          "name": "stderr"
        }
      ]
    },
    {
      "cell_type": "markdown",
      "metadata": {
        "id": "leOrkboJAwRl",
        "colab_type": "text"
      },
      "source": [
        "## Conclusión de los resultos \n",
        "\n",
        "> A pesar de que el *MPL* tiene la capacidad de resolver problemas que no son linealmente separables y de esta manera se puede evitar uno de los problemas antes comentados, se puede observar que el perceptrón sigue teniendo resultados similares.\n",
        "\n",
        "> Por lo tanto concluimos que el error es debido a la proporción de los datos del dataframe."
      ]
    },
    {
      "cell_type": "markdown",
      "metadata": {
        "id": "P_gajk75H8SZ",
        "colab_type": "text"
      },
      "source": [
        "## **Optimización ratio de aprendizaje**"
      ]
    },
    {
      "cell_type": "markdown",
      "metadata": {
        "id": "bXNpEO3bBUzr",
        "colab_type": "text"
      },
      "source": [
        "> Buscamos el ratio de aprendizaje más adeuado entre 0.001 y 0.1."
      ]
    },
    {
      "cell_type": "code",
      "metadata": {
        "id": "85X2VOTeIJYy",
        "colab_type": "code",
        "colab": {}
      },
      "source": [
        "tests_learning_rate_init = [0.001, 0.005, 0.01, 0.05, 0.1]\n",
        "activation = 'relu'\n",
        "random_state = 0\n",
        "now = datetime.now()\n",
        "loss_curves =  []\n",
        "for lr in tests_learning_rate_init:\n",
        "   mlp = MLPClassifier(hidden_layer_sizes=(n_hidden,), learning_rate_init=lr, shuffle=False, random_state=random_state, verbose=False, activation=activation)\n",
        "   MLP_train_valid(mlp, input_train, target_train, input_valid, target_valid, max_iter, valid_cycles, False)\n",
        "   loss_curves.append(mlp.loss_curve_)"
      ],
      "execution_count": 0,
      "outputs": []
    },
    {
      "cell_type": "markdown",
      "metadata": {
        "id": "OkmLX8tHB_tA",
        "colab_type": "text"
      },
      "source": [
        "> Mostramos la gráfica para ver la evolución del error a lo largo de los ciclos para los diferentes ratios estudiados. "
      ]
    },
    {
      "cell_type": "code",
      "metadata": {
        "id": "MkLg05xqIKrn",
        "colab_type": "code",
        "outputId": "a6d04d60-8058-4d99-b9c1-c47a2fce38bd",
        "colab": {
          "base_uri": "https://localhost:8080/",
          "height": 279
        }
      },
      "source": [
        "for (lr, loss_curve) in zip(tests_learning_rate_init, loss_curves):\n",
        "   plt.plot(range(1, len(loss_curve)+1), loss_curve, label='larning rate = ' + str(lr))\n",
        "   \n",
        "plt.xlabel('number of iterations')\n",
        "plt.ylabel('loss function')\n",
        "plt.legend(loc='upper right')\n",
        "plt.show()"
      ],
      "execution_count": 0,
      "outputs": [
        {
          "output_type": "display_data",
          "data": {
            "image/png": "[encoded data removed]",
            "text/plain": [
              "<Figure size 432x288 with 1 Axes>"
            ]
          },
          "metadata": {
            "tags": []
          }
        }
      ]
    },
    {
      "cell_type": "markdown",
      "metadata": {
        "id": "1K71QpTLCrS1",
        "colab_type": "text"
      },
      "source": [
        "## Conclusión de la gráfica\n",
        "\n",
        "> Podemos ver que el ratio más estable y adecuado es el 0.1 para este conjunto de datos."
      ]
    },
    {
      "cell_type": "markdown",
      "metadata": {
        "id": "3eQKGDX3IiID",
        "colab_type": "text"
      },
      "source": [
        "## **Optimización arquitectura**"
      ]
    },
    {
      "cell_type": "markdown",
      "metadata": {
        "id": "FzBud9bSDLHX",
        "colab_type": "text"
      },
      "source": [
        "> Buscamos el número de neuronas más adeuado entre 10 y 190."
      ]
    },
    {
      "cell_type": "code",
      "metadata": {
        "id": "wTwd_TEdI7QW",
        "colab_type": "code",
        "outputId": "40b8ca0b-b102-43e3-d9c4-b65af3727f78",
        "colab": {
          "base_uri": "https://localhost:8080/",
          "height": 1000
        }
      },
      "source": [
        "tests_n_hidden = [10, 30, 50, 70, 90, 110, 130, 150, 170, 190]\n",
        "n_reps = 10\n",
        "activation = 'relu'\n",
        "# activation = 'logistic'\n",
        "learning_rate_init = 0.1\n",
        "now = datetime.now()\n",
        "best_mlp = []\n",
        "best_acc = 0.0\n",
        "accs_train = []\n",
        "accs_valid = []\n",
        "\n",
        "for n_hidden in tests_n_hidden:\n",
        "   max_acc_train = max_acc_valid = 0.0\n",
        "   for random_state in range(n_reps):\n",
        "       mlp = MLPClassifier(hidden_layer_sizes=(n_hidden,), learning_rate_init=learning_rate_init, shuffle=False, random_state=random_state, verbose=False, activation=activation)\n",
        "       MLP_train_valid(mlp, input_train, target_train, input_valid, target_valid, max_iter, valid_cycles, False)\n",
        "       \n",
        "       acc_train = accuracy_score(target_train, mlp.predict(input_train))\n",
        "       acc_valid = accuracy_score(target_valid,mlp.predict(input_valid))\n",
        "       print(\"Seed = %d, train acc = %.8f, valid acc = %.8f, iterations = %d\" % (random_state, acc_train, acc_valid, len(mlp.loss_curve_)))\n",
        "       if (max_acc_valid < acc_valid):\n",
        "           max_acc_valid = acc_valid\n",
        "           max_acc_train = acc_train\n",
        "           if (acc_valid > best_acc):\n",
        "               best_acc = acc_valid\n",
        "               best_mlp = mlp\n",
        "\n",
        "   accs_train.append(max_acc_train)\n",
        "   accs_valid.append(max_acc_valid)\n",
        "   print(\"Number hidden units = %i, train acc = %.8f, max valid acc = %.8f\" % (n_hidden, max_acc_train, max_acc_valid))\n",
        "   "
      ],
      "execution_count": 0,
      "outputs": [
        {
          "output_type": "stream",
          "text": [
            "Seed = 0, train acc = 0.69547325, valid acc = 0.60975610, iterations = 45\n",
            "Seed = 1, train acc = 0.69547325, valid acc = 0.60975610, iterations = 40\n",
            "Seed = 2, train acc = 0.69547325, valid acc = 0.60975610, iterations = 35\n",
            "Seed = 3, train acc = 0.69547325, valid acc = 0.60975610, iterations = 35\n",
            "Seed = 4, train acc = 0.69547325, valid acc = 0.60975610, iterations = 55\n",
            "Seed = 5, train acc = 0.69547325, valid acc = 0.60975610, iterations = 30\n",
            "Seed = 6, train acc = 0.69547325, valid acc = 0.60975610, iterations = 80\n",
            "Seed = 7, train acc = 0.69547325, valid acc = 0.60975610, iterations = 10\n",
            "Seed = 8, train acc = 0.69547325, valid acc = 0.60975610, iterations = 50\n",
            "Seed = 9, train acc = 0.69547325, valid acc = 0.60975610, iterations = 45\n",
            "Number hidden units = 10, train acc = 0.69547325, max valid acc = 0.60975610\n",
            "Seed = 0, train acc = 0.69753086, valid acc = 0.60975610, iterations = 35\n",
            "Seed = 1, train acc = 0.69547325, valid acc = 0.60975610, iterations = 70\n",
            "Seed = 2, train acc = 0.69547325, valid acc = 0.60975610, iterations = 60\n",
            "Seed = 3, train acc = 0.69753086, valid acc = 0.60975610, iterations = 60\n",
            "Seed = 4, train acc = 0.69547325, valid acc = 0.60975610, iterations = 40\n",
            "Seed = 5, train acc = 0.69341564, valid acc = 0.60975610, iterations = 40\n",
            "Seed = 6, train acc = 0.69547325, valid acc = 0.60975610, iterations = 55\n",
            "Seed = 7, train acc = 0.69547325, valid acc = 0.60975610, iterations = 30\n",
            "Seed = 8, train acc = 0.69341564, valid acc = 0.60975610, iterations = 75\n",
            "Seed = 9, train acc = 0.69547325, valid acc = 0.60975610, iterations = 35\n",
            "Number hidden units = 30, train acc = 0.69753086, max valid acc = 0.60975610\n",
            "Seed = 0, train acc = 0.69547325, valid acc = 0.60975610, iterations = 10\n",
            "Seed = 1, train acc = 0.69547325, valid acc = 0.60975610, iterations = 25\n",
            "Seed = 2, train acc = 0.69547325, valid acc = 0.60975610, iterations = 20\n",
            "Seed = 3, train acc = 0.69547325, valid acc = 0.60975610, iterations = 65\n",
            "Seed = 4, train acc = 0.69547325, valid acc = 0.60975610, iterations = 60\n",
            "Seed = 5, train acc = 0.69547325, valid acc = 0.60975610, iterations = 60\n",
            "Seed = 6, train acc = 0.69547325, valid acc = 0.60975610, iterations = 35\n",
            "Seed = 7, train acc = 0.69547325, valid acc = 0.60975610, iterations = 20\n",
            "Seed = 8, train acc = 0.69547325, valid acc = 0.60975610, iterations = 25\n",
            "Seed = 9, train acc = 0.69547325, valid acc = 0.60975610, iterations = 15\n",
            "Number hidden units = 50, train acc = 0.69547325, max valid acc = 0.60975610\n",
            "Seed = 0, train acc = 0.69547325, valid acc = 0.60975610, iterations = 45\n",
            "Seed = 1, train acc = 0.69547325, valid acc = 0.60975610, iterations = 45\n",
            "Seed = 2, train acc = 0.69958848, valid acc = 0.60975610, iterations = 50\n",
            "Seed = 3, train acc = 0.69547325, valid acc = 0.60975610, iterations = 40\n",
            "Seed = 4, train acc = 0.69547325, valid acc = 0.60975610, iterations = 75\n",
            "Seed = 5, train acc = 0.69547325, valid acc = 0.60975610, iterations = 10\n",
            "Seed = 6, train acc = 0.69547325, valid acc = 0.60975610, iterations = 55\n",
            "Seed = 7, train acc = 0.69547325, valid acc = 0.60975610, iterations = 35\n",
            "Seed = 8, train acc = 0.69547325, valid acc = 0.60975610, iterations = 20\n",
            "Seed = 9, train acc = 0.69547325, valid acc = 0.60975610, iterations = 25\n",
            "Number hidden units = 70, train acc = 0.69547325, max valid acc = 0.60975610\n",
            "Seed = 0, train acc = 0.69547325, valid acc = 0.60975610, iterations = 40\n",
            "Seed = 1, train acc = 0.69547325, valid acc = 0.60975610, iterations = 35\n",
            "Seed = 2, train acc = 0.69547325, valid acc = 0.60975610, iterations = 30\n",
            "Seed = 3, train acc = 0.69547325, valid acc = 0.60975610, iterations = 65\n",
            "Seed = 4, train acc = 0.69547325, valid acc = 0.60975610, iterations = 55\n",
            "Seed = 5, train acc = 0.69547325, valid acc = 0.60975610, iterations = 65\n",
            "Seed = 6, train acc = 0.69753086, valid acc = 0.60975610, iterations = 55\n",
            "Seed = 7, train acc = 0.69547325, valid acc = 0.60975610, iterations = 55\n",
            "Seed = 8, train acc = 0.69547325, valid acc = 0.60975610, iterations = 70\n",
            "Seed = 9, train acc = 0.69547325, valid acc = 0.60975610, iterations = 70\n",
            "Number hidden units = 90, train acc = 0.69547325, max valid acc = 0.60975610\n",
            "Seed = 0, train acc = 0.69547325, valid acc = 0.60975610, iterations = 45\n",
            "Seed = 1, train acc = 0.69547325, valid acc = 0.60975610, iterations = 45\n",
            "Seed = 2, train acc = 0.69547325, valid acc = 0.60975610, iterations = 35\n",
            "Seed = 3, train acc = 0.69547325, valid acc = 0.60975610, iterations = 35\n",
            "Seed = 4, train acc = 0.69547325, valid acc = 0.60975610, iterations = 25\n",
            "Seed = 5, train acc = 0.69547325, valid acc = 0.60975610, iterations = 20\n",
            "Seed = 6, train acc = 0.69547325, valid acc = 0.60975610, iterations = 65\n",
            "Seed = 7, train acc = 0.69547325, valid acc = 0.60975610, iterations = 20\n",
            "Seed = 8, train acc = 0.69547325, valid acc = 0.60975610, iterations = 25\n",
            "Seed = 9, train acc = 0.69547325, valid acc = 0.60975610, iterations = 15\n",
            "Number hidden units = 110, train acc = 0.69547325, max valid acc = 0.60975610\n",
            "Seed = 0, train acc = 0.69547325, valid acc = 0.60975610, iterations = 55\n",
            "Seed = 1, train acc = 0.69547325, valid acc = 0.60975610, iterations = 45\n",
            "Seed = 2, train acc = 0.69547325, valid acc = 0.60975610, iterations = 40\n",
            "Seed = 3, train acc = 0.69547325, valid acc = 0.60975610, iterations = 45\n",
            "Seed = 4, train acc = 0.69547325, valid acc = 0.60975610, iterations = 45\n",
            "Seed = 5, train acc = 0.69547325, valid acc = 0.60975610, iterations = 25\n",
            "Seed = 6, train acc = 0.69547325, valid acc = 0.60975610, iterations = 80\n",
            "Seed = 7, train acc = 0.69547325, valid acc = 0.60975610, iterations = 20\n",
            "Seed = 8, train acc = 0.69547325, valid acc = 0.60975610, iterations = 55\n",
            "Seed = 9, train acc = 0.69341564, valid acc = 0.60975610, iterations = 60\n",
            "Number hidden units = 130, train acc = 0.69547325, max valid acc = 0.60975610\n",
            "Seed = 0, train acc = 0.69547325, valid acc = 0.60975610, iterations = 50\n",
            "Seed = 1, train acc = 0.69547325, valid acc = 0.60975610, iterations = 50\n",
            "Seed = 2, train acc = 0.69547325, valid acc = 0.60975610, iterations = 55\n",
            "Seed = 3, train acc = 0.69341564, valid acc = 0.63414634, iterations = 25\n",
            "Seed = 4, train acc = 0.69341564, valid acc = 0.60975610, iterations = 30\n",
            "Seed = 5, train acc = 0.69547325, valid acc = 0.60975610, iterations = 40\n",
            "Seed = 6, train acc = 0.69547325, valid acc = 0.60975610, iterations = 35\n",
            "Seed = 7, train acc = 0.69547325, valid acc = 0.60975610, iterations = 50\n",
            "Seed = 8, train acc = 0.69547325, valid acc = 0.60975610, iterations = 40\n",
            "Seed = 9, train acc = 0.69547325, valid acc = 0.60975610, iterations = 55\n",
            "Number hidden units = 150, train acc = 0.69341564, max valid acc = 0.63414634\n",
            "Seed = 0, train acc = 0.69547325, valid acc = 0.60975610, iterations = 35\n",
            "Seed = 1, train acc = 0.69547325, valid acc = 0.60975610, iterations = 15\n",
            "Seed = 2, train acc = 0.69547325, valid acc = 0.60975610, iterations = 35\n",
            "Seed = 3, train acc = 0.69547325, valid acc = 0.60975610, iterations = 45\n",
            "Seed = 4, train acc = 0.69547325, valid acc = 0.60975610, iterations = 40\n",
            "Seed = 5, train acc = 0.69547325, valid acc = 0.60975610, iterations = 55\n",
            "Seed = 6, train acc = 0.69547325, valid acc = 0.60975610, iterations = 50\n",
            "Seed = 7, train acc = 0.69547325, valid acc = 0.60975610, iterations = 35\n",
            "Seed = 8, train acc = 0.69547325, valid acc = 0.60975610, iterations = 80\n",
            "Seed = 9, train acc = 0.69547325, valid acc = 0.60975610, iterations = 55\n",
            "Number hidden units = 170, train acc = 0.69547325, max valid acc = 0.60975610\n",
            "Seed = 0, train acc = 0.69547325, valid acc = 0.60975610, iterations = 30\n",
            "Seed = 1, train acc = 0.69547325, valid acc = 0.60975610, iterations = 65\n",
            "Seed = 2, train acc = 0.69547325, valid acc = 0.60975610, iterations = 45\n",
            "Seed = 3, train acc = 0.69547325, valid acc = 0.60975610, iterations = 50\n",
            "Seed = 4, train acc = 0.69547325, valid acc = 0.60975610, iterations = 45\n",
            "Seed = 5, train acc = 0.69547325, valid acc = 0.60975610, iterations = 50\n",
            "Seed = 6, train acc = 0.69547325, valid acc = 0.60975610, iterations = 15\n",
            "Seed = 7, train acc = 0.69547325, valid acc = 0.60975610, iterations = 60\n",
            "Seed = 8, train acc = 0.69547325, valid acc = 0.60975610, iterations = 35\n",
            "Seed = 9, train acc = 0.69547325, valid acc = 0.60975610, iterations = 25\n",
            "Number hidden units = 190, train acc = 0.69547325, max valid acc = 0.60975610\n"
          ],
          "name": "stdout"
        }
      ]
    },
    {
      "cell_type": "code",
      "metadata": {
        "id": "SyZ1J_ntJA4G",
        "colab_type": "code",
        "outputId": "c5cc9773-6de9-4309-a18c-f4d09c69991b",
        "colab": {
          "base_uri": "https://localhost:8080/",
          "height": 171
        }
      },
      "source": [
        "print(\"Number of seconds for training: %d\" % (datetime.now() - now).total_seconds())\n",
        "print(\"Best MLP valid accuracy: %.8f%%\" % (best_acc * 100))\n",
        "print(\"Best MLP: \", best_mlp)"
      ],
      "execution_count": 0,
      "outputs": [
        {
          "output_type": "stream",
          "text": [
            "Number of seconds for training: 25\n",
            "Best MLP valid accuracy: 63.41463415%\n",
            "Best MLP:  MLPClassifier(activation='relu', alpha=0.0001, batch_size='auto', beta_1=0.9,\n",
            "              beta_2=0.999, early_stopping=False, epsilon=1e-08,\n",
            "              hidden_layer_sizes=(150,), learning_rate='constant',\n",
            "              learning_rate_init=0.1, max_fun=15000, max_iter=200, momentum=0.9,\n",
            "              n_iter_no_change=10, nesterovs_momentum=True, power_t=0.5,\n",
            "              random_state=3, shuffle=False, solver='adam', tol=0.0001,\n",
            "              validation_fraction=0.1, verbose=False, warm_start=False)\n"
          ],
          "name": "stdout"
        }
      ]
    },
    {
      "cell_type": "code",
      "metadata": {
        "id": "aJsNfGuDJJAW",
        "colab_type": "code",
        "outputId": "c1550909-65b8-4f0b-eda3-302fc55f0fef",
        "colab": {
          "base_uri": "https://localhost:8080/",
          "height": 279
        }
      },
      "source": [
        "width = 4\n",
        "plt.bar(np.array(tests_n_hidden) - width, 100 *(1- np.array(accs_train)), color='g', width=width, label='Train error')\n",
        "plt.bar(np.array(tests_n_hidden), 100 *(1- np.array(accs_valid)), width=width, label='Min valid error')\n",
        "plt.xlabel('number of hidden units')\n",
        "plt.ylabel('error (%)')\n",
        "plt.xticks(np.array(tests_n_hidden), tests_n_hidden)\n",
        "plt.legend(loc='upper right')\n",
        "plt.show()"
      ],
      "execution_count": 0,
      "outputs": [
        {
          "output_type": "display_data",
          "data": {
            "image/png": "[encoded data removed]",
            "text/plain": [
              "<Figure size 432x288 with 1 Axes>"
            ]
          },
          "metadata": {
            "tags": []
          }
        }
      ]
    },
    {
      "cell_type": "markdown",
      "metadata": {
        "id": "k9N9zMaDEem9",
        "colab_type": "text"
      },
      "source": [
        "## Conclusión\n",
        "> Este algoritmo según el porcentaje de validación escoge el mejor resultado. En nuestro caso es con 150 neuronas y se puede ver que la gráfica no varía mucho entre las diferentes cantidades de neuronas.\n",
        "\n",
        "> Esto es debido a lo que ya hemos explicado sobre la proporción de valores."
      ]
    },
    {
      "cell_type": "markdown",
      "metadata": {
        "id": "eugtZjCWJVrS",
        "colab_type": "text"
      },
      "source": [
        "# **Resultado mejor MLP**"
      ]
    },
    {
      "cell_type": "code",
      "metadata": {
        "id": "vvK-_gfUJWK_",
        "colab_type": "code",
        "outputId": "e8f3d7b6-a25a-4122-ad9b-e0aa3cc446d9",
        "colab": {
          "base_uri": "https://localhost:8080/",
          "height": 1000
        }
      },
      "source": [
        "predict_train = best_mlp.predict(input_train)\n",
        "predict_valid = best_mlp.predict(input_valid)\n",
        "predict_test = best_mlp.predict(input_test)\n",
        "\n",
        "print(\"Train accuracy: %.3f%%\" % (accuracy_score(target_train, predict_train) * 100))\n",
        "print(\"Valid accuracy: %.3f%%\" % (accuracy_score(target_valid, predict_valid) * 100))\n",
        "print(\"Test accuracy: %.3f%%\" % (accuracy_score(target_test, predict_test) * 100))\n",
        "\n",
        "print(\"\\n------ Resultados Entrenamiento ------\")\n",
        "print(\"\\nTrain confusion matrix:\")\n",
        "print(confusion_matrix(target_train, predict_train))\n",
        "print(\"\\nTrain classification report:\")\n",
        "print(classification_report(target_train, predict_train))\n",
        "\n",
        "print(\"\\n------ Resultados Validacion  ------\")\n",
        "print(\"\\nValid confusion matrix:\")\n",
        "print(confusion_matrix(target_valid, predict_valid))\n",
        "print(\"\\nValid classification report:\")\n",
        "print(classification_report(target_valid, predict_valid))\n",
        "\n",
        "print(\"\\n------ Resultados Test  ------\")\n",
        "print(\"\\nTest confusion matrix:\")\n",
        "print(confusion_matrix(target_test, predict_test))\n",
        "print(\"\\nTest classification report:\")\n",
        "print(classification_report(target_test, predict_test))\n"
      ],
      "execution_count": 0,
      "outputs": [
        {
          "output_type": "stream",
          "text": [
            "Train accuracy: 69.342%\n",
            "Valid accuracy: 63.415%\n",
            "Test accuracy: 72.951%\n",
            "\n",
            "------ Resultados Entrenamiento ------\n",
            "\n",
            "Train confusion matrix:\n",
            "[[337   0   1   0   0]\n",
            " [ 86   0   3   0   0]\n",
            " [ 34   0   0   0   0]\n",
            " [ 12   0   0   0   0]\n",
            " [ 13   0   0   0   0]]\n",
            "\n",
            "Train classification report:\n",
            "              precision    recall  f1-score   support\n",
            "\n",
            "           1       0.70      1.00      0.82       338\n",
            "           2       0.00      0.00      0.00        89\n",
            "           3       0.00      0.00      0.00        34\n",
            "           4       0.00      0.00      0.00        12\n",
            "           5       0.00      0.00      0.00        13\n",
            "\n",
            "    accuracy                           0.69       486\n",
            "   macro avg       0.14      0.20      0.16       486\n",
            "weighted avg       0.49      0.69      0.57       486\n",
            "\n",
            "\n",
            "------ Resultados Validacion  ------\n",
            "\n",
            "Valid confusion matrix:\n",
            "[[25  0  0  0  0]\n",
            " [ 8  0  1  0  0]\n",
            " [ 3  0  1  0  0]\n",
            " [ 2  0  0  0  0]\n",
            " [ 1  0  0  0  0]]\n",
            "\n",
            "Valid classification report:\n",
            "              precision    recall  f1-score   support\n",
            "\n",
            "           1       0.64      1.00      0.78        25\n",
            "           2       0.00      0.00      0.00         9\n",
            "           3       0.50      0.25      0.33         4\n",
            "           4       0.00      0.00      0.00         2\n",
            "           5       0.00      0.00      0.00         1\n",
            "\n",
            "    accuracy                           0.63        41\n",
            "   macro avg       0.23      0.25      0.22        41\n",
            "weighted avg       0.44      0.63      0.51        41\n",
            "\n",
            "\n",
            "------ Resultados Test  ------\n",
            "\n",
            "Test confusion matrix:\n",
            "[[88  0  0  0  0]\n",
            " [23  0  0  0  0]\n",
            " [ 4  0  1  0  0]\n",
            " [ 3  0  0  0  0]\n",
            " [ 3  0  0  0  0]]\n",
            "\n",
            "Test classification report:\n",
            "              precision    recall  f1-score   support\n",
            "\n",
            "           1       0.73      1.00      0.84        88\n",
            "           2       0.00      0.00      0.00        23\n",
            "           3       1.00      0.20      0.33         5\n",
            "           4       0.00      0.00      0.00         3\n",
            "           5       0.00      0.00      0.00         3\n",
            "\n",
            "    accuracy                           0.73       122\n",
            "   macro avg       0.35      0.24      0.24       122\n",
            "weighted avg       0.57      0.73      0.62       122\n",
            "\n"
          ],
          "name": "stdout"
        },
        {
          "output_type": "stream",
          "text": [
            "/usr/local/lib/python3.6/dist-packages/sklearn/metrics/_classification.py:1272: UndefinedMetricWarning:\n",
            "\n",
            "Precision and F-score are ill-defined and being set to 0.0 in labels with no predicted samples. Use `zero_division` parameter to control this behavior.\n",
            "\n"
          ],
          "name": "stderr"
        }
      ]
    },
    {
      "cell_type": "code",
      "metadata": {
        "id": "ugFnXAYuHsSo",
        "colab_type": "code",
        "outputId": "832fad04-9422-449f-d1d7-d974f2766259",
        "colab": {
          "base_uri": "https://localhost:8080/",
          "height": 279
        }
      },
      "source": [
        "mlp_probs = mlp.predict_proba(input_test)\n",
        "classes  = np.unique(target_train)\n",
        "\n",
        "mlp_auc = []\n",
        "mlp_fpr = []\n",
        "mlp_tpr = []\n",
        "\n",
        "for cla in classes:\n",
        "  cla = int(cla)\n",
        "  mlp_auc.append(roc_auc_score(target_test==cla, mlp_probs[:,cla - 1]))\n",
        "  fpr, tpr, _  = roc_curve(target_test==cla, mlp_probs[:,cla - 1])\n",
        "  mlp_fpr.append(fpr)\n",
        "  mlp_tpr.append(tpr)\n",
        "\n",
        "for cla in classes:\n",
        "  cla = int(cla)\n",
        "  # plt.plot(ns_fpr, ns_tpr, linestyle='--', label='No Skill')\n",
        "  plt.plot(mlp_fpr[cla - 1], mlp_tpr[cla - 1], marker='.', label='Class %d (AUC: %.5f)' % (cla, mlp_auc[cla - 1]))\n",
        "\n",
        "plt.plot([0, 1], [0, 1], color='navy', linestyle='--')\n",
        "plt.xlabel('False Positive Rate')\n",
        "plt.ylabel('True Positive Rate')\n",
        "plt.legend()\n",
        "plt.show()"
      ],
      "execution_count": 0,
      "outputs": [
        {
          "output_type": "display_data",
          "data": {
            "image/png": "[encoded data removed]",
            "text/plain": [
              "<Figure size 432x288 with 1 Axes>"
            ]
          },
          "metadata": {
            "tags": []
          }
        }
      ]
    },
    {
      "cell_type": "markdown",
      "metadata": {
        "id": "-6UaLsyzQPOa",
        "colab_type": "text"
      },
      "source": [
        "___\n",
        "\n",
        "# Conclusión final\n",
        "\n",
        "Como hemos podido ver a lo largo de todos los resultados que hemos obtenido, se puede evidenciar la desproporción de los datos de consumición de alcohol. Por tal razón, aunque apliquemos correctamente tanto el perceptrón simple como el multicapa la precisión no termina de ser la esperada.\n",
        "\n",
        "Por ejemplo, el caso de la clase 1 de consumición de alcohol representa más de la mitad de los estudiantes."
      ]
    }
  ]
}